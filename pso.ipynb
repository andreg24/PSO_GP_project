{
 "cells": [
  {
   "cell_type": "markdown",
   "metadata": {},
   "source": [
    "# Imports and hyperparameters"
   ]
  },
  {
   "cell_type": "code",
   "execution_count": 2,
   "metadata": {},
   "outputs": [],
   "source": [
    "import numpy as np\n",
    "import matplotlib.pyplot as plt\n",
    "import random"
   ]
  },
  {
   "cell_type": "code",
   "execution_count": 3,
   "metadata": {},
   "outputs": [],
   "source": [
    "# hyperparameters\n",
    "\n",
    "SWARM_SIZE = 1000\n",
    "ITERATIONS = 100"
   ]
  },
  {
   "cell_type": "markdown",
   "metadata": {},
   "source": [
    "# Utils"
   ]
  },
  {
   "cell_type": "code",
   "execution_count": 4,
   "metadata": {},
   "outputs": [],
   "source": [
    "# utils function\n",
    "\n",
    "def compute_magnitude(pts):\n",
    "    \"\"\"Return a vector of magnitudes of an array of points in R^2\"\"\"\n",
    "    return np.sqrt(np.power(pts[:, 0], 2) + np.power(pts[:, 1], 2))   \n",
    "\n",
    "def compute_center_mass(pts):\n",
    "    \"\"\"Return the center of mass of points in R^2\"\"\"\n",
    "    return np.array([pts.mean(axis=0)])\n",
    "\n",
    "def compute_dispersion(pts, center_mass):\n",
    "    \"\"\"Return the dispersion of the points as the average distance from the center of mass\"\"\"\n",
    "    return compute_magnitude(pts - center_mass).mean()"
   ]
  },
  {
   "cell_type": "markdown",
   "metadata": {},
   "source": [
    "# Fitness functions"
   ]
  },
  {
   "cell_type": "markdown",
   "metadata": {},
   "source": [
    "**Modifications of fitness functions**:\n",
    "- translations: to change the minima; to translate in direction $(x', y')$ give as input $(x-x', y-y')$.\n",
    "- scale of the variables: to change the scale of the problem and the size of the convex regions \n",
    "- combination of the two by doing $(x - x') * x_{scale}$"
   ]
  },
  {
   "cell_type": "code",
   "execution_count": 5,
   "metadata": {},
   "outputs": [],
   "source": [
    "# fitness function modifier\n",
    "\n",
    "def fitness_decorator(fit, var_translation, var_scale, amplitude, intercept):\n",
    "    \"\"\"var_translation and var_scale have (2,) shape\"\"\"\n",
    "    def modified_fit(solutions):\n",
    "        solutions = solutions - var_translation\n",
    "        solutions = solutions * var_scale\n",
    "\n",
    "        return amplitude * fit(solutions) + intercept\n",
    "    \n",
    "    return modified_fit"
   ]
  },
  {
   "cell_type": "markdown",
   "metadata": {},
   "source": [
    "We look for functions with one global minima. They can have only one minima or multiple local minima.\n",
    "Functions:\n",
    "- circle\n",
    "- rastrigin\n",
    "- "
   ]
  },
  {
   "cell_type": "code",
   "execution_count": 6,
   "metadata": {},
   "outputs": [],
   "source": [
    "# fitness functions\n",
    "def sphere(solutions):\n",
    "    \"\"\"\n",
    "    Info:\n",
    "    - global minimum = f(0, 0) = 0\n",
    "    - local minima: no\n",
    "    \"\"\"\n",
    "    x = solutions[:, 0]\n",
    "    y = solutions[:, 1]\n",
    "    return np.power(x, 2) + np.power(y, 2)\n",
    "\n",
    "def rastrigin(solutions):\n",
    "    \"\"\"\n",
    "    Info:\n",
    "    - global minimum = f(0, 0) = 0\n",
    "    - local minima: yes\n",
    "    \"\"\"\n",
    "    A = 10\n",
    "    x = solutions[:, 0]\n",
    "    y = solutions[:, 1]\n",
    "    return A*2 + (np.power(solutions, 2) - A*np.cos(solutions * 2 * np.pi)).sum(axis=1)\n",
    "\n",
    "def eggholder(solutions):\n",
    "    \"\"\"\n",
    "    Info:\n",
    "    - global minimum = f(0, 0) = 0\n",
    "    - local minima: no\n",
    "    \"\"\"\n",
    "    x = solutions[:, 0]\n",
    "    y = solutions[:, 1]\n",
    "    return - (y + 47)* np.sin(np.sqrt(np.abs(x* 0.5 + (y + 47)))) - x * np.sin(np.sqrt(np.abs(x - (y + 47))))\n",
    "\n",
    "def schaffer(solutions):\n",
    "    x = solutions[:, 0]\n",
    "    y = solutions[:, 1]\n",
    "    return 0.5 + (np.power(\n",
    "        np.sin(np.power(x, 2) - np.power(y, 2)) - 0.5, 2)\n",
    "        ) / np.power(\n",
    "            1 + 0.001*(np.power(x, 2) + np.power(y, 2)), 2\n",
    "        )\n",
    "\n",
    "def rosenbrock(solutions):\n",
    "    \"\"\"\n",
    "    Info:\n",
    "    - global minimum = f(a, a**2) = 0\n",
    "    - local minima: boh\n",
    "    \"\"\"\n",
    "    a = 0\n",
    "    b = 100\n",
    "    x = solutions[:, 0]\n",
    "    y = solutions[:, 1]\n",
    "    return np.power(a - x, 2)  + b * np.power((y - np.power(x, 2)), 2)"
   ]
  },
  {
   "cell_type": "markdown",
   "metadata": {},
   "source": [
    "# Swarm class"
   ]
  },
  {
   "cell_type": "code",
   "execution_count": 94,
   "metadata": {},
   "outputs": [],
   "source": [
    "class Swarm:\n",
    "    \"\"\"Class swarm that implementes PSO for 2D problems\"\"\"\n",
    "\n",
    "    def __init__(\n",
    "        self,\n",
    "        n,\n",
    "        fit,\n",
    "        soc_factor=1.49,\n",
    "        cog_factor=1.49,\n",
    "        inertia_weight=0.9,\n",
    "        vel_magnitude_limits=[0.01, 50],\n",
    "        ):\n",
    "\n",
    "        self.n = n # number of particles\n",
    "        self.fit = fit # fitness function\n",
    "\n",
    "        self.soc_factor = soc_factor\n",
    "        self.cog_factor = cog_factor\n",
    "        self.inertia_weight = inertia_weight\n",
    "        self.inertia_decay = 0.99\n",
    "        self.inertia_min = 0.2\n",
    "\n",
    "        self.vel_magnitude_limits = vel_magnitude_limits # min and max velocity magnitude\n",
    "\n",
    "        # initialize\n",
    "        self.swarm = None\n",
    "        self.velocity = None\n",
    "        self.initialization()\n",
    "\n",
    "        self.personal_best = self.swarm\n",
    "        self.global_best = np.array([self.personal_best[np.argmin(self.fit(self.personal_best))]])\n",
    "        self.center_mass = compute_center_mass(self.swarm)\n",
    "        self.dispersion = compute_dispersion(self.swarm, self.center_mass) # average distance from center of mass\n",
    "\n",
    "    def initialization(self, gen_position_limits=np.array([[-5, 5]]*2)):\n",
    "        \n",
    "        \"\"\"Function dealing with the initialization of the particles initial positions and velocities\"\"\"\n",
    "\n",
    "        # initialize population\n",
    "        self.swarm = np.random.uniform(\n",
    "            gen_position_limits[:, 0], \n",
    "            gen_position_limits[:, 1], \n",
    "            size=(self.n, 2))\n",
    "        \n",
    "        # initialize velocity\n",
    "        self.velocity = np.zeros((self.n, 2))\n",
    "\n",
    "    def update_velocity(self):\n",
    "        # stochastic elements\n",
    "        r1 = np.random.uniform(np.zeros(2), np.ones(2), size=(self.n, 2))\n",
    "        r2 = np.random.uniform(np.zeros(2), np.ones(2), size=(self.n, 2))\n",
    "        \n",
    "        # factors\n",
    "        inertia = self.velocity * self.inertia_weight\n",
    "        social = self.soc_factor * r1 * (self.global_best - self.swarm)\n",
    "        cognitive = self.cog_factor * r2 * (self.personal_best - self.swarm)\n",
    "\n",
    "        # update velocity\n",
    "        self.velocity = inertia + social + cognitive\n",
    "        self.inertia_weight = self.inertia_weight * self.inertia_decay\n",
    "        if self.inertia_weight < self.inertia_min:\n",
    "            self.inertia_weight = self.inertia_min\n",
    "\n",
    "        # check velocity lower/upper magnitude limit\n",
    "        # MODIFY TO DEAL WITH ZERO VELOCITY!!!!\n",
    "        magnitude = compute_magnitude(self.velocity)\n",
    "        large_vel = magnitude > self.vel_magnitude_limits[1]\n",
    "        small_vel = (magnitude < self.vel_magnitude_limits[0]) & (magnitude > 0)\n",
    "        if large_vel.sum() > 0:\n",
    "            self.velocity[large_vel] = self.velocity[large_vel] / np.array([[magnitude[large_vel]]]).reshape(large_vel.sum(), 1) * self.vel_magnitude_limits[1]\n",
    "        if small_vel.sum() > 0:\n",
    "            self.velocity[small_vel] = self.velocity[small_vel] / np.array([[magnitude[small_vel]]]).reshape(small_vel.sum(), 1) * self.vel_magnitude_limits[0]\n",
    "\n",
    "    def update_position(self):\n",
    "        self.swarm = self.swarm + self.velocity\n",
    "\n",
    "        # update best\n",
    "        indexes = self.fit(self.personal_best) > self.fit(self.swarm)\n",
    "        self.personal_best[indexes] = self.swarm[indexes]\n",
    "        self.global_best = np.array([self.personal_best[np.argmin(self.fit(self.personal_best))]])\n",
    "\n",
    "        # update center mass\n",
    "        self.center_mass = compute_center_mass(self.swarm)\n",
    "\n",
    "        # compute dispersion\n",
    "        self.dispersion = compute_dispersion(self.swarm, self.center_mass)\n",
    "\n",
    "    def generate(self, cycles=1):\n",
    "\n",
    "        for _ in range(cycles):\n",
    "            self.update_velocity()\n",
    "            self.update_position()\n",
    "\n",
    "    def plot(self):\n",
    "        plt.scatter(self.swarm[:, 0], self.swarm[:, 1], s=1, color='black')\n",
    "        plt.scatter(self.center_mass[:, 0], self.center_mass[:, 1], s=16, color='red', marker='s', alpha=0.5)\n",
    "        plt.scatter(self.global_best[:, 0], self.global_best[:, 1], s=16, color='green', marker='+')\n",
    "    \n",
    "    def describe(self):\n",
    "        print(f'best fit value = {self.fit(self.global_best)[0]}')\n",
    "        print(f'best solution = {self.global_best[0]}')\n",
    "        print(f'center of mass = {self.center_mass[0]}')\n",
    "        print(f'dispersion = {self.dispersion}')"
   ]
  },
  {
   "cell_type": "code",
   "execution_count": 95,
   "metadata": {},
   "outputs": [
    {
     "data": {
      "image/png": "[encoded data removed]",
      "text/plain": [
       "<Figure size 640x480 with 1 Axes>"
      ]
     },
     "metadata": {},
     "output_type": "display_data"
    }
   ],
   "source": [
    "S = Swarm(1000, rastrigin)\n",
    "\n",
    "S.plot()"
   ]
  },
  {
   "cell_type": "code",
   "execution_count": null,
   "metadata": {},
   "outputs": [],
   "source": [
    "S.generate(1000)\n",
    "S.describe()"
   ]
  },
  {
   "cell_type": "code",
   "execution_count": 98,
   "metadata": {},
   "outputs": [
    {
     "data": {
      "image/png": "[encoded data removed]",
      "text/plain": [
       "<Figure size 640x480 with 1 Axes>"
      ]
     },
     "metadata": {},
     "output_type": "display_data"
    }
   ],
   "source": [
    "S.plot()"
   ]
  }
 ],
 "metadata": {
  "kernelspec": {
   "display_name": "Python 3",
   "language": "python",
   "name": "python3"
  },
  "language_info": {
   "codemirror_mode": {
    "name": "ipython",
    "version": 3
   },
   "file_extension": ".py",
   "mimetype": "text/x-python",
   "name": "python",
   "nbconvert_exporter": "python",
   "pygments_lexer": "ipython3",
   "version": "3.12.2"
  }
 },
 "nbformat": 4,
 "nbformat_minor": 2
}
