{
 "cells": [
  {
   "cell_type": "code",
   "execution_count": 1,
   "metadata": {},
   "outputs": [],
   "source": [
    "import operator\n",
    "import math\n",
    "import random\n",
    "import numpy as np\n",
    "import matplotlib.pyplot as plt\n",
    "\n",
    "from deap import base, creator, gp, tools, algorithms"
   ]
  },
  {
   "cell_type": "code",
   "execution_count": 2,
   "metadata": {},
   "outputs": [],
   "source": [
    "def target_function(x: np.ndarray, y: np.ndarray):\n",
    "    return np.add(np.exp(x), np.power(-y, 3))"
   ]
  },
  {
   "cell_type": "markdown",
   "metadata": {},
   "source": [
    "# Basic example"
   ]
  },
  {
   "cell_type": "code",
   "execution_count": 3,
   "metadata": {},
   "outputs": [],
   "source": [
    "def target(x, y):\n",
    "    return np.sin(3*x) - np.sin(3*y)"
   ]
  },
  {
   "cell_type": "code",
   "execution_count": 4,
   "metadata": {},
   "outputs": [],
   "source": [
    "pset = gp.PrimitiveSet(\"MAIN\", 2)\n",
    "pset.addPrimitive(np.add, 2)\n",
    "pset.addPrimitive(np.negative, 1)\n",
    "pset.addPrimitive(np.subtract, 2)\n",
    "pset.addPrimitive(np.multiply, 2)\n",
    "pset.addPrimitive(np.sin, 1)\n",
    "pset.addPrimitive(np.cos, 1)\n",
    "pset.addPrimitive(np.sqrt, 1)\n",
    "\n",
    "pset.addTerminal(3)\n",
    "pset.renameArguments(ARG0=\"x\")\n",
    "pset.renameArguments(ARG1=\"y\")"
   ]
  },
  {
   "cell_type": "code",
   "execution_count": 5,
   "metadata": {},
   "outputs": [],
   "source": [
    "expr = gp.genFull(pset, min_=1, max_=3)\n",
    "tree = gp.PrimitiveTree(expr)"
   ]
  },
  {
   "cell_type": "code",
   "execution_count": 6,
   "metadata": {},
   "outputs": [
    {
     "data": {
      "text/plain": [
       "[<deap.gp.Primitive at 0x28b922f8fe0>,\n",
       " <deap.gp.Primitive at 0x28b922f8ef0>,\n",
       " <deap.gp.Terminal at 0x28b92161d40>,\n",
       " <deap.gp.Terminal at 0x28b92161d40>]"
      ]
     },
     "execution_count": 6,
     "metadata": {},
     "output_type": "execute_result"
    }
   ],
   "source": [
    "tree"
   ]
  },
  {
   "cell_type": "code",
   "execution_count": 7,
   "metadata": {},
   "outputs": [],
   "source": [
    "# generation of tree individuals\n",
    "\n",
    "creator.create('FitnessMin', base.Fitness, weights=(-1.0,))\n",
    "creator.create('Individual', gp.PrimitiveTree, fitness=creator.FitnessMin, pset=pset)"
   ]
  },
  {
   "cell_type": "code",
   "execution_count": 24,
   "metadata": {},
   "outputs": [],
   "source": [
    "# register generation function in a toolbox\n",
    "\n",
    "toolbox = base.Toolbox()\n",
    "toolbox.register('expr', gp.genHalfAndHalf, pset=pset, min_=1, max_=3)\n",
    "toolbox.register('individual', tools.initIterate, creator.Individual, toolbox.expr)\n",
    "toolbox.register('population', tools.initRepeat, list, toolbox.individual)\n",
    "toolbox.register('compile', gp.compile, pset=pset)"
   ]
  },
  {
   "cell_type": "code",
   "execution_count": 25,
   "metadata": {},
   "outputs": [
    {
     "name": "stdout",
     "output_type": "stream",
     "text": [
      "add(x, x)\n"
     ]
    }
   ],
   "source": [
    "# visualize tree with str() or compile the function\n",
    "\n",
    "expr = gp.genFull(pset, min_=1, max_=3)\n",
    "\n",
    "tree = gp.PrimitiveTree(expr)\n",
    "print(str(tree))\n",
    "func = gp.compile(tree, pset)"
   ]
  },
  {
   "cell_type": "code",
   "execution_count": 27,
   "metadata": {},
   "outputs": [],
   "source": [
    "def evalSymbReg(individual, points):\n",
    "    # trasform tree expression in a callable function\n",
    "    func = toolbox.compile(expr=individual)\n",
    "\n",
    "    # evaluate the mean squared error\n",
    "    sqerrors = ((func(x) - target(x))**2 for x in points)\n",
    "    return math.fsum(sqerrors) / len(points)"
   ]
  },
  {
   "cell_type": "code",
   "execution_count": 29,
   "metadata": {},
   "outputs": [],
   "source": [
    "toolbox.register('evaluate', evalSymbReg, points=[x/10. for x in range(-10,10)])\n",
    "toolbox.register('select', tools.selTournament, tournsize=3)\n",
    "toolbox.register('mate', gp.cxOnePoint)\n",
    "toolbox.register(\"expr_mut\", gp.genFull, min_=0, max_=2)\n",
    "toolbox.register(\"mutate\", gp.mutUniform, expr=toolbox.expr_mut, pset=pset)"
   ]
  },
  {
   "cell_type": "code",
   "execution_count": 31,
   "metadata": {},
   "outputs": [],
   "source": [
    "def GPrun():\n",
    "    random.seed(318)\n",
    "\n",
    "    pop = toolbox.population(n=300)\n",
    "    hof = tools.HallOfFame(1)"
   ]
  },
  {
   "cell_type": "code",
   "execution_count": 2,
   "metadata": {},
   "outputs": [],
   "source": [
    "def target(x):\n",
    "    return 12"
   ]
  },
  {
   "cell_type": "code",
   "execution_count": 3,
   "metadata": {},
   "outputs": [
    {
     "name": "stderr",
     "output_type": "stream",
     "text": [
      "c:\\Users\\andre\\AppData\\Local\\Programs\\Python\\Python312\\Lib\\site-packages\\deap\\creator.py:185: RuntimeWarning: A class named 'FitnessMin' has already been created and it will be overwritten. Consider deleting previous creation of that class or rename it.\n",
      "  warnings.warn(\"A class named '{0}' has already been created and it \"\n",
      "c:\\Users\\andre\\AppData\\Local\\Programs\\Python\\Python312\\Lib\\site-packages\\deap\\creator.py:185: RuntimeWarning: A class named 'Individual' has already been created and it will be overwritten. Consider deleting previous creation of that class or rename it.\n",
      "  warnings.warn(\"A class named '{0}' has already been created and it \"\n"
     ]
    },
    {
     "name": "stdout",
     "output_type": "stream",
     "text": [
      "   \t      \t                              fitness                              \t                      size                     \n",
      "   \t      \t-------------------------------------------------------------------\t-----------------------------------------------\n",
      "gen\tnevals\tavg        \tgen\tmax        \tmin    \tnevals\tstd        \tavg    \tgen\tmax\tmin\tnevals\tstd    \n",
      "0  \t300   \t143.519    \t0  \t505.379    \t59.3931\t300   \t34.645     \t3.70667\t0  \t7  \t2  \t300   \t1.55583\n",
      "1  \t162   \t128.091    \t1  \t245.95     \t59.2061\t162   \t27.3863    \t3.72667\t1  \t15 \t1  \t162   \t1.74889\n",
      "2  \t173   \t118.17     \t2  \t347.867    \t51.9378\t173   \t35.3231    \t4.06333\t2  \t13 \t1  \t173   \t1.85993\n",
      "3  \t158   \t102.503    \t3  \t374.343    \t44.345 \t158   \t39.2945    \t4.47   \t3  \t13 \t1  \t158   \t1.96191\n",
      "4  \t168   \t93.3738    \t4  \t407.962    \t35.0884\t168   \t40.7918    \t4.98333\t4  \t9  \t1  \t168   \t1.97562\n",
      "5  \t159   \t84.9849    \t5  \t337.775    \t20.2947\t159   \t42.3271    \t5.65   \t5  \t13 \t1  \t159   \t2.04797\n",
      "6  \t174   \t80.6645    \t6  \t347.357    \t6.61315\t174   \t45.0711    \t5.98667\t6  \t15 \t1  \t174   \t2.08482\n",
      "7  \t174   \t71.1978    \t7  \t395.024    \t6.61315\t174   \t48.4317    \t6.49667\t7  \t14 \t1  \t174   \t2.14554\n",
      "8  \t159   \t73.2701    \t8  \t745.027    \t5.51154\t159   \t75.9065    \t6.86333\t8  \t15 \t2  \t159   \t2.40652\n",
      "9  \t158   \t92.3221    \t9  \t2489.14    \t5.51154\t158   \t225.653    \t7.64333\t9  \t19 \t3  \t158   \t2.73303\n",
      "10 \t175   \t79.3826    \t10 \t2883.19    \t5.46338\t175   \t199.06     \t8.49667\t10 \t21 \t1  \t175   \t3.03919\n",
      "11 \t149   \t56.1204    \t11 \t890.423    \t5.46338\t149   \t116.045    \t8.94   \t11 \t18 \t1  \t149   \t2.90225\n",
      "12 \t163   \t63.1029    \t12 \t2052.41    \t5.22078\t163   \t167.268    \t9.21333\t12 \t20 \t1  \t163   \t2.7775 \n",
      "13 \t160   \t102.466    \t13 \t7734.14    \t5.46338\t160   \t533.1      \t9.37   \t13 \t19 \t3  \t160   \t2.81184\n",
      "14 \t170   \t387.982    \t14 \t83937      \t5.46338\t170   \t4845.54    \t8.89   \t14 \t23 \t1  \t170   \t2.83041\n",
      "15 \t172   \t52.5325    \t15 \t695.706    \t5.22078\t172   \t95.6261    \t8.58667\t15 \t21 \t3  \t172   \t2.54214\n",
      "16 \t179   \t1.17577e+31\t16 \t3.5273e+33 \t5.22078\t179   \t2.03309e+32\t8.29   \t16 \t21 \t3  \t179   \t2.07667\n",
      "17 \t153   \t61.4157    \t17 \t1742.44    \t5.22078\t153   \t145.788    \t7.82667\t17 \t13 \t1  \t153   \t1.91397\n",
      "18 \t181   \t67.4309    \t18 \t1050.64    \t5.22078\t181   \t132.506    \t7.55667\t18 \t15 \t1  \t181   \t1.78142\n",
      "19 \t144   \t54.1321    \t19 \t595.519    \t5.22078\t144   \t97.5998    \t7.20333\t19 \t15 \t1  \t144   \t1.73455\n",
      "20 \t166   \t56.9048    \t20 \t608.407    \t5.22078\t166   \t100.039    \t7.04667\t20 \t12 \t1  \t166   \t1.48026\n",
      "21 \t169   \t53.7666    \t21 \t838.695    \t5.22078\t169   \t106.477    \t7.08   \t21 \t14 \t2  \t169   \t1.53414\n",
      "22 \t156   \t62.0726    \t22 \t3209.56    \t5.22078\t156   \t206.583    \t7.19   \t22 \t14 \t3  \t156   \t1.55153\n",
      "23 \t175   \t42.1062    \t23 \t788.9      \t5.22078\t175   \t87.0088    \t7.13333\t23 \t15 \t3  \t175   \t1.59443\n",
      "24 \t177   \t45.725     \t24 \t1145.79    \t5.22078\t177   \t109.747    \t7.11667\t24 \t13 \t1  \t177   \t1.57365\n",
      "25 \t172   \t39.0224    \t25 \t762.763    \t5.22078\t172   \t84.7962    \t7.07667\t25 \t15 \t1  \t172   \t1.69827\n",
      "26 \t177   \t2.85877e+30\t26 \t8.57631e+32\t5.22078\t177   \t4.94327e+31\t7.16667\t26 \t15 \t1  \t177   \t1.64283\n",
      "27 \t169   \t31.7482    \t27 \t384.678    \t4.9    \t169   \t50.5598    \t7.01333\t27 \t15 \t1  \t169   \t1.70484\n",
      "28 \t156   \t36.6354    \t28 \t440.977    \t4.9    \t156   \t67.1346    \t7.02333\t28 \t14 \t1  \t156   \t1.51089\n",
      "29 \t172   \t35.2957    \t29 \t1094.23    \t4.9    \t172   \t82.4673    \t6.95   \t29 \t14 \t1  \t172   \t1.58561\n",
      "30 \t153   \t31.3875    \t30 \t788.9      \t4.9    \t153   \t70.2903    \t7.08667\t30 \t13 \t1  \t153   \t1.45115\n",
      "31 \t169   \t28.9207    \t31 \t643.937    \t4.9    \t169   \t58.7278    \t7.08   \t31 \t13 \t1  \t169   \t1.38574\n",
      "32 \t170   \t248.058    \t32 \t66677.7    \t4.9    \t170   \t3841.99    \t7.08667\t32 \t15 \t1  \t170   \t1.26721\n",
      "33 \t187   \t34.5703    \t33 \t668.144    \t4.9    \t187   \t70.0068    \t7.1    \t33 \t13 \t1  \t187   \t1.50665\n",
      "34 \t165   \t41.6469    \t34 \t800.718    \t4.9    \t165   \t95.0644    \t7.01333\t34 \t12 \t1  \t165   \t1.5077 \n",
      "35 \t176   \t35.425     \t35 \t403.5      \t4.9    \t176   \t58.0902    \t7.04333\t35 \t14 \t3  \t176   \t1.73055\n",
      "36 \t167   \t135.946    \t36 \t26016.5    \t4.9    \t167   \t1499.88    \t7.08667\t36 \t16 \t1  \t167   \t1.81819\n",
      "37 \t140   \t32.9268    \t37 \t583.7      \t4.9    \t140   \t66.4127    \t6.98   \t37 \t13 \t2  \t140   \t1.48535\n",
      "38 \t160   \t46.2803    \t38 \t583.7      \t4.9    \t160   \t93.7069    \t7.01333\t38 \t17 \t1  \t160   \t1.96125\n",
      "39 \t174   \t54.3279    \t39 \t679.823    \t4.9    \t174   \t110.387    \t7.08333\t39 \t15 \t1  \t174   \t2.05663\n",
      "40 \t164   \t49.2212    \t40 \t583.7      \t4.9    \t164   \t100.727    \t7.16   \t40 \t19 \t3  \t164   \t2.19113\n",
      "41 \t156   \t50.4546    \t41 \t583.7      \t4.9    \t156   \t110.972    \t7.01   \t41 \t17 \t1  \t156   \t2.01078\n",
      "42 \t157   \t40.0086    \t42 \t580.9      \t4.9    \t157   \t78.5073    \t6.93667\t42 \t13 \t1  \t157   \t1.67312\n",
      "43 \t156   \t36.0922    \t43 \t583.7      \t4.9    \t156   \t81.5288    \t6.97333\t43 \t13 \t1  \t156   \t1.61223\n",
      "44 \t178   \t46.1591    \t44 \t790.3      \t4.9    \t178   \t91.2932    \t6.92667\t44 \t13 \t1  \t178   \t1.91519\n",
      "45 \t179   \t132.671    \t45 \t24667.4    \t4.9    \t179   \t1422.09    \t6.88667\t45 \t12 \t1  \t179   \t1.93231\n",
      "46 \t162   \t47.4103    \t46 \t583.7      \t4.9    \t162   \t96.7025    \t7.05   \t46 \t13 \t1  \t162   \t2.01515\n",
      "47 \t173   \t47.8063    \t47 \t583.7      \t4.9    \t173   \t83.09      \t7.11   \t47 \t13 \t1  \t173   \t1.87561\n",
      "48 \t168   \t45.9815    \t48 \t583.7      \t4.9    \t168   \t102.406    \t7.19   \t48 \t18 \t3  \t168   \t2.09457\n",
      "49 \t173   \t55.1741    \t49 \t583.7      \t4.9    \t173   \t113.665    \t7.23333\t49 \t17 \t3  \t173   \t2.18607\n",
      "50 \t150   \t51.1875    \t50 \t975.857    \t4.9    \t150   \t113.11     \t7.12667\t50 \t15 \t1  \t150   \t1.80295\n",
      "51 \t169   \t39.2513    \t51 \t583.7      \t4.9    \t169   \t87.7982    \t7.19   \t51 \t15 \t1  \t169   \t1.85667\n",
      "52 \t171   \t50.7271    \t52 \t583.7      \t4.9    \t171   \t99.0651    \t7.02333\t52 \t14 \t1  \t171   \t1.9569 \n",
      "53 \t163   \t46.5685    \t53 \t583.7      \t4.9    \t163   \t102.209    \t6.98333\t53 \t14 \t1  \t163   \t1.799  \n",
      "54 \t165   \t47.1002    \t54 \t583.7      \t4.9    \t165   \t96.864     \t7.01   \t54 \t14 \t3  \t165   \t1.92091\n",
      "55 \t174   \t53.8597    \t55 \t583.7      \t4.9    \t174   \t117.34     \t6.98667\t55 \t13 \t1  \t174   \t1.76252\n",
      "56 \t155   \t50.1254    \t56 \t1305.1     \t4.9    \t155   \t119.918    \t7.1    \t56 \t15 \t1  \t155   \t2.04042\n",
      "57 \t161   \t35.5106    \t57 \t583.7      \t4.9    \t161   \t76.774     \t7.02333\t57 \t17 \t1  \t161   \t1.95007\n",
      "58 \t174   \t49.9782    \t58 \t706.63     \t4.9    \t174   \t109.466    \t7.15333\t58 \t15 \t2  \t174   \t1.91742\n",
      "59 \t162   \t47.5477    \t59 \t1123.52    \t4.9    \t162   \t112.408    \t7.06333\t59 \t12 \t3  \t162   \t1.68107\n",
      "60 \t156   \t581.795    \t60 \t158063     \t4.9    \t156   \t9108.43    \t7.06667\t60 \t15 \t1  \t156   \t2.01053\n",
      "61 \t166   \t33.3278    \t61 \t583.7      \t4.9    \t166   \t72.2477    \t7.07667\t61 \t13 \t2  \t166   \t1.71973\n",
      "62 \t166   \t42.1661    \t62 \t583.7      \t4.9    \t166   \t98.9548    \t7.12667\t62 \t15 \t1  \t166   \t1.88431\n",
      "63 \t183   \t52.981     \t63 \t583.7      \t4.9    \t183   \t111.236    \t7.08667\t63 \t17 \t3  \t183   \t2.05406\n",
      "64 \t157   \t40.9866    \t64 \t583.7      \t4.9    \t157   \t96.6784    \t6.90333\t64 \t15 \t1  \t157   \t1.8549 \n",
      "65 \t166   \t35.7663    \t65 \t583.7      \t4.9    \t166   \t83.1679    \t6.96667\t65 \t13 \t1  \t166   \t1.74133\n",
      "66 \t162   \t33.7803    \t66 \t583.7      \t4.9    \t162   \t70.6836    \t6.99   \t66 \t14 \t1  \t162   \t1.72527\n",
      "67 \t157   \t55.0075    \t67 \t1520.85    \t4.9    \t157   \t141.843    \t7.02   \t67 \t17 \t1  \t157   \t2.00822\n",
      "68 \t164   \t36.6023    \t68 \t583.7      \t4.9    \t164   \t81.15      \t7.03667\t68 \t14 \t1  \t164   \t1.98712\n",
      "69 \t157   \t34.0271    \t69 \t583.7      \t4.9    \t157   \t78.5513    \t6.96333\t69 \t13 \t1  \t157   \t1.73839\n",
      "70 \t139   \t2.30599e+31\t70 \t6.91797e+33\t4.9    \t139   \t3.98743e+32\t7.05   \t70 \t17 \t1  \t139   \t1.84413\n",
      "71 \t182   \t38.3689    \t71 \t1529.77    \t4.9    \t182   \t114.625    \t7.14   \t71 \t15 \t2  \t182   \t1.77024\n",
      "72 \t158   \t37.3442    \t72 \t583.7      \t4.9    \t158   \t89.4326    \t7.00333\t72 \t15 \t1  \t158   \t1.85022\n",
      "73 \t160   \t37.2562    \t73 \t583.7      \t4.9    \t160   \t83.212     \t6.93333\t73 \t13 \t1  \t160   \t1.86428\n",
      "74 \t134   \t31.6904    \t74 \t583.7      \t4.9    \t134   \t80.4601    \t7.05   \t74 \t13 \t3  \t134   \t1.92549\n",
      "75 \t190   \t45.1287    \t75 \t583.7      \t4.9    \t190   \t105.162    \t7.13333\t75 \t16 \t1  \t190   \t2.17766\n",
      "76 \t160   \t36.1814    \t76 \t583.7      \t4.9    \t160   \t78.6607    \t7.02667\t76 \t15 \t3  \t160   \t1.95941\n",
      "77 \t163   \t33.2751    \t77 \t583.7      \t4.9    \t163   \t73.2153    \t6.97667\t77 \t17 \t1  \t163   \t2.09828\n",
      "78 \t151   \t33.6417    \t78 \t1305.1     \t4.9    \t151   \t98.298     \t7.01333\t78 \t17 \t2  \t151   \t1.76441\n",
      "79 \t176   \t35.0808    \t79 \t583.7      \t4.9    \t176   \t78.2541    \t6.94333\t79 \t14 \t2  \t176   \t1.90616\n",
      "80 \t159   \t32.1765    \t80 \t583.7      \t4.9    \t159   \t78.9225    \t6.92333\t80 \t14 \t1  \t159   \t1.92461\n",
      "81 \t166   \t32.7914    \t81 \t583.7      \t4.9    \t166   \t82.2363    \t7.02667\t81 \t18 \t1  \t166   \t1.91293\n",
      "82 \t143   \t1.44124e+30\t82 \t4.32373e+32\t4.9    \t143   \t2.49214e+31\t7.03   \t82 \t20 \t1  \t143   \t1.94313\n",
      "83 \t160   \t40.1076    \t83 \t906.3      \t4.9    \t160   \t108.214    \t7.00667\t83 \t13 \t1  \t160   \t1.84751\n",
      "84 \t141   \t39.3665    \t84 \t583.7      \t4.9    \t141   \t100.942    \t6.91667\t84 \t15 \t1  \t141   \t1.85015\n",
      "85 \t147   \t46.6523    \t85 \t4104.58    \t4.9    \t147   \t247.64     \t7.08667\t85 \t15 \t1  \t147   \t1.89539\n",
      "86 \t169   \t35.4348    \t86 \t583.7      \t4.9    \t169   \t82.4234    \t7.10333\t86 \t15 \t1  \t169   \t1.93718\n",
      "87 \t158   \t43.1322    \t87 \t583.7      \t4.9    \t158   \t98.528     \t7.06667\t87 \t13 \t1  \t158   \t2.04342\n",
      "88 \t190   \t1667.92    \t88 \t488859     \t4.9    \t190   \t28175.1    \t6.98333\t88 \t14 \t1  \t190   \t1.96885\n",
      "89 \t145   \t37.2881    \t89 \t1305.1     \t4.9    \t145   \t103.759    \t6.95333\t89 \t18 \t1  \t145   \t1.96074\n",
      "90 \t183   \t39.1752    \t90 \t583.7      \t4.9    \t183   \t85.134     \t7.03333\t90 \t14 \t1  \t183   \t2.11319\n",
      "91 \t169   \t34.9271    \t91 \t583.7      \t4.9    \t169   \t82.7335    \t7.12333\t91 \t17 \t1  \t169   \t2.11379\n",
      "92 \t156   \t30.4611    \t92 \t583.7      \t4.9    \t156   \t63.4817    \t7.06333\t92 \t17 \t1  \t156   \t2.00316\n",
      "93 \t162   \t36.9154    \t93 \t583.7      \t4.9    \t162   \t86.1664    \t7.21667\t93 \t15 \t3  \t162   \t2.11732\n",
      "94 \t166   \t40.1009    \t94 \t1109.07    \t4.9    \t166   \t108.486    \t7.03667\t94 \t14 \t3  \t166   \t1.83902\n",
      "95 \t147   \t35.6774    \t95 \t583.7      \t4.9    \t147   \t88.1098    \t6.94333\t95 \t12 \t1  \t147   \t1.78329\n",
      "96 \t169   \t32.9096    \t96 \t583.7      \t4.9    \t169   \t70.3441    \t6.99333\t96 \t14 \t1  \t169   \t1.8726 \n",
      "97 \t163   \t29.0606    \t97 \t1305.1     \t4.9    \t163   \t87.6821    \t6.94   \t97 \t13 \t1  \t163   \t1.85015\n",
      "98 \t182   \t32.4048    \t98 \t583.7      \t4.9    \t182   \t71.5159    \t6.96   \t98 \t13 \t1  \t182   \t1.91269\n",
      "99 \t168   \t40.4458    \t99 \t2632.14    \t4.9    \t168   \t164.061    \t6.9    \t99 \t16 \t1  \t168   \t2.21736\n",
      "100\t155   \t26.2633    \t100\t583.7      \t4.9    \t155   \t62.5449    \t6.94   \t100\t12 \t1  \t155   \t1.65421\n"
     ]
    }
   ],
   "source": [
    "#    This file is part of EAP.\n",
    "#\n",
    "#    EAP is free software: you can redistribute it and/or modify\n",
    "#    it under the terms of the GNU Lesser General Public License as\n",
    "#    published by the Free Software Foundation, either version 3 of\n",
    "#    the License, or (at your option) any later version.\n",
    "#\n",
    "#    EAP is distributed in the hope that it will be useful,\n",
    "#    but WITHOUT ANY WARRANTY; without even the implied warranty of\n",
    "#    MERCHANTABILITY or FITNESS FOR A PARTICULAR PURPOSE. See the\n",
    "#    GNU Lesser General Public License for more details.\n",
    "#\n",
    "#    You should have received a copy of the GNU Lesser General Public\n",
    "#    License along with EAP. If not, see <http://www.gnu.org/licenses/>.\n",
    "\n",
    "import operator\n",
    "import math\n",
    "import random\n",
    "\n",
    "import numpy\n",
    "\n",
    "from functools import partial\n",
    "\n",
    "from deap import algorithms\n",
    "from deap import base\n",
    "from deap import creator\n",
    "from deap import tools\n",
    "from deap import gp\n",
    "\n",
    "# Define new functions\n",
    "def protectedDiv(left, right):\n",
    "    try:\n",
    "        return left / right\n",
    "    except ZeroDivisionError:\n",
    "        return 1\n",
    "\n",
    "pset = gp.PrimitiveSet(\"MAIN\", 1)\n",
    "pset.addPrimitive(operator.add, 2)\n",
    "pset.addPrimitive(operator.sub, 2)\n",
    "pset.addPrimitive(operator.mul, 2)\n",
    "pset.addPrimitive(protectedDiv, 2)\n",
    "pset.addPrimitive(operator.neg, 1)\n",
    "pset.addPrimitive(math.cos, 1)\n",
    "pset.addPrimitive(math.sin, 1)\n",
    "pset.addPrimitive(random.uniform, 2)\n",
    "pset.addEphemeralConstant(\"rand101\", partial(random.randint, -2, 2))\n",
    "pset.addTerminal(math.pi/2)\n",
    "pset.renameArguments(ARG0='x')\n",
    "\n",
    "creator.create(\"FitnessMin\", base.Fitness, weights=(-1.0,))\n",
    "creator.create(\"Individual\", gp.PrimitiveTree, fitness=creator.FitnessMin)\n",
    "\n",
    "toolbox = base.Toolbox()\n",
    "toolbox.register(\"expr\", gp.genHalfAndHalf, pset=pset, min_=1, max_=2)\n",
    "toolbox.register(\"individual\", tools.initIterate, creator.Individual, toolbox.expr)\n",
    "toolbox.register(\"population\", tools.initRepeat, list, toolbox.individual)\n",
    "toolbox.register(\"compile\", gp.compile, pset=pset)\n",
    "\n",
    "def evalSymbReg(individual, points):\n",
    "    # Transform the tree expression in a callable function\n",
    "    func = toolbox.compile(expr=individual)\n",
    "    # Evaluate the mean squared error between the expression\n",
    "    # and the real function : x**4 + x**3 + x**2 + x\n",
    "    sqerrors = ((func(x) -  target(x))**2 for x in points) # x**4 - x**3 - x**2 - x -\n",
    "    return math.fsum(sqerrors) / len(points) + 0.7*len(individual),\n",
    "\n",
    "toolbox.register(\"evaluate\", evalSymbReg, points=[x/10. for x in range(-10,10)])\n",
    "toolbox.register(\"select\", tools.selTournament, tournsize=3) # selction\n",
    "toolbox.register(\"mate\", gp.cxOnePoint) # crossover\n",
    "toolbox.register(\"expr_mut\", gp.genFull, min_=0, max_=2)\n",
    "toolbox.register(\"mutate\", gp.mutUniform, expr=toolbox.expr_mut, pset=pset)\n",
    "\n",
    "toolbox.decorate(\"mate\", gp.staticLimit(key=operator.attrgetter(\"height\"), max_value=17))\n",
    "toolbox.decorate(\"mutate\", gp.staticLimit(key=operator.attrgetter(\"height\"), max_value=17))\n",
    "\n",
    "def main():\n",
    "    random.seed(318)\n",
    "\n",
    "    pop = toolbox.population(n=300)\n",
    "    hof = tools.HallOfFame(1)\n",
    "\n",
    "    stats_fit = tools.Statistics(lambda ind: ind.fitness.values)\n",
    "    stats_size = tools.Statistics(len)\n",
    "    mstats = tools.MultiStatistics(fitness=stats_fit, size=stats_size)\n",
    "    mstats.register(\"avg\", numpy.mean)\n",
    "    mstats.register(\"std\", numpy.std)\n",
    "    mstats.register(\"min\", numpy.min)\n",
    "    mstats.register(\"max\", numpy.max)\n",
    "\n",
    "    pop, log = algorithms.eaSimple(pop, toolbox, 0.5, 0.1, 100, stats=mstats,\n",
    "                                   halloffame=hof, verbose=False)\n",
    "    # print log\n",
    "    return pop, log, hof\n",
    "\n",
    "if __name__ == \"__main__\":\n",
    "    pop, log, hof = main()\n",
    "\n",
    "print(log)"
   ]
  },
  {
   "cell_type": "code",
   "execution_count": 4,
   "metadata": {},
   "outputs": [
    {
     "name": "stdout",
     "output_type": "stream",
     "text": [
      "best solution = mul(2, add(sub(2, -2), 2))\n",
      "best solution size = 7\n"
     ]
    }
   ],
   "source": [
    "print(f'best solution = {str(hof[0])}')\n",
    "print(f'best solution size = {len(hof[0])}')\n",
    "# tree representation\n",
    "\n",
    "func = gp.compile(hof[0], pset)"
   ]
  },
  {
   "cell_type": "code",
   "execution_count": null,
   "metadata": {},
   "outputs": [
    {
     "data": {
      "text/plain": [
       "7"
      ]
     },
     "execution_count": 235,
     "metadata": {},
     "output_type": "execute_result"
    }
   ],
   "source": [
    "hof[0]"
   ]
  },
  {
   "cell_type": "code",
   "execution_count": 229,
   "metadata": {},
   "outputs": [
    {
     "data": {
      "text/plain": [
       "7"
      ]
     },
     "execution_count": 229,
     "metadata": {},
     "output_type": "execute_result"
    }
   ],
   "source": [
    "len(hof[0])"
   ]
  },
  {
   "cell_type": "code",
   "execution_count": 201,
   "metadata": {},
   "outputs": [
    {
     "data": {
      "text/plain": [
       "defaultdict(list,\n",
       "            {object: [<deap.gp.Terminal at 0x28b938c2e80>,\n",
       "              deap.gp.rand101,\n",
       "              <deap.gp.Terminal at 0x28b938aecc0>,\n",
       "              <deap.gp.Terminal at 0x28b938ae4c0>]})"
      ]
     },
     "execution_count": 201,
     "metadata": {},
     "output_type": "execute_result"
    }
   ],
   "source": [
    "pset.terminals"
   ]
  },
  {
   "cell_type": "code",
   "execution_count": 157,
   "metadata": {},
   "outputs": [
    {
     "data": {
      "text/plain": [
       "dict_items([(<class 'object'>, [<deap.gp.Terminal object at 0x0000028B938A3200>, <class 'deap.gp.rand101'>, <deap.gp.Terminal object at 0x0000028B938A2C80>, <deap.gp.Terminal object at 0x0000028B93988280>])])"
      ]
     },
     "execution_count": 157,
     "metadata": {},
     "output_type": "execute_result"
    }
   ],
   "source": [
    "pset.terminals.items()"
   ]
  },
  {
   "cell_type": "code",
   "execution_count": 154,
   "metadata": {},
   "outputs": [
    {
     "name": "stdout",
     "output_type": "stream",
     "text": [
      "[<deap.gp.Terminal object at 0x0000028B938A3200>, <class 'deap.gp.rand101'>, <deap.gp.Terminal object at 0x0000028B938A2C80>, <deap.gp.Terminal object at 0x0000028B93988280>]\n"
     ]
    }
   ],
   "source": [
    "for k in term.keys():\n",
    "    print(term[k])"
   ]
  },
  {
   "cell_type": "code",
   "execution_count": null,
   "metadata": {},
   "outputs": [
    {
     "name": "stdout",
     "output_type": "stream",
     "text": [
      "Return type: <class 'object'>\n",
      "  Terminal: <deap.gp.Terminal object at 0x0000028B938A3200>\n",
      "  Terminal: <class 'deap.gp.rand101'>\n",
      "  Terminal: <deap.gp.Terminal object at 0x0000028B938A2C80>\n",
      "  Terminal: <deap.gp.Terminal object at 0x0000028B93988280>\n"
     ]
    }
   ],
   "source": [
    "for ret_type, terminals in pset.terminals.items():\n",
    "    print(f\"Return type: {ret_type}\")\n",
    "    for terminal in terminals:\n",
    "        print(f\"  Terminal: {terminal}\")"
   ]
  },
  {
   "cell_type": "code",
   "execution_count": null,
   "metadata": {},
   "outputs": [
    {
     "name": "stdout",
     "output_type": "stream",
     "text": [
      "Return type: <class 'object'>\n",
      "  Terminal: <deap.gp.Terminal object at 0x0000028B93B7E680>\n",
      "    - Value: ARG0\n",
      "    - Name: ARG0\n",
      "    - Ret Type: <class 'object'>\n",
      "  Terminal: <deap.gp.Terminal object at 0x0000028B93B7E480>\n",
      "    - Value: ARG1\n",
      "    - Name: ARG1\n",
      "    - Ret Type: <class 'object'>\n",
      "  Terminal: <deap.gp.Terminal object at 0x0000028B93B7E2C0>\n",
      "    - Value: 42\n",
      "    - Name: 42\n",
      "    - Ret Type: <class 'object'>\n",
      "  Terminal: <deap.gp.Terminal object at 0x0000028B93B7E3C0>\n",
      "    - Value: Hello\n",
      "    - Name: Hello\n",
      "    - Ret Type: <class 'object'>\n"
     ]
    }
   ],
   "source": [
    "from deap import gp\n",
    "\n",
    "# Example: Creating a PrimitiveSet and Adding Terminals\n",
    "pset = gp.PrimitiveSet(\"MAIN\", 2)  # Two arguments (ARG0, ARG1)\n",
    "pset.addTerminal(42)               # Adding a constant terminal\n",
    "pset.addTerminal(\"Hello\")          # Adding another constant terminal\n",
    "\n",
    "# Inspecting the Terminal Set\n",
    "for ret_type, terminals in pset.terminals.items():\n",
    "    print(f\"Return type: {ret_type}\")\n",
    "    for terminal in terminals:\n",
    "        print(f\"  Terminal: {terminal}\")\n",
    "        print(f\"    - Value: {getattr(terminal, 'value', None)}\")  # The actual value\n",
    "        print(f\"    - Name: {getattr(terminal, 'name', None)}\")    # The name of the terminal\n",
    "        print(f\"    - Ret Type: {terminal.ret}\")                   # Return type of the terminal"
   ]
  }
 ],
 "metadata": {
  "kernelspec": {
   "display_name": "Python 3",
   "language": "python",
   "name": "python3"
  },
  "language_info": {
   "codemirror_mode": {
    "name": "ipython",
    "version": 3
   },
   "file_extension": ".py",
   "mimetype": "text/x-python",
   "name": "python",
   "nbconvert_exporter": "python",
   "pygments_lexer": "ipython3",
   "version": "3.12.2"
  }
 },
 "nbformat": 4,
 "nbformat_minor": 2
}
