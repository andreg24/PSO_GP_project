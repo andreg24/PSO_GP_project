{
 "cells": [
  {
   "cell_type": "code",
   "execution_count": 11,
   "metadata": {},
   "outputs": [],
   "source": [
    "import operator\n",
    "import math\n",
    "import random\n",
    "\n",
    "import numpy\n",
    "\n",
    "from functools import partial\n",
    "\n",
    "from deap import algorithms\n",
    "from deap import base\n",
    "from deap import creator\n",
    "from deap import tools\n",
    "from deap import gp\n",
    "\n",
    "from pso_utils import *\n",
    "from landscapes import *"
   ]
  },
  {
   "cell_type": "code",
   "execution_count": null,
   "metadata": {},
   "outputs": [],
   "source": [
    "SWARM_SIZE = 50 # increase time x2\n",
    "NUM_ITERATIONS = 100 # increase time x5\n",
    "NUM_PROBLEMS = 100"
   ]
  },
  {
   "cell_type": "code",
   "execution_count": 13,
   "metadata": {},
   "outputs": [],
   "source": [
    "pset = gp.PrimitiveSet(\"MAIN\", 4)\n",
    "# basic\n",
    "pset.addPrimitive(np.add, 2)\n",
    "pset.addPrimitive(np.negative, 1)\n",
    "pset.addPrimitive(np.subtract, 2)\n",
    "pset.addPrimitive(np.multiply, 2)\n",
    "\n",
    "# # random\n",
    "# pset.addPrimitive(gen_random, 1)\n",
    "\n",
    "# others\n",
    "# pset.addPrimitive(np.cos, 1)\n",
    "# pset.addPrimitive(np.sin, 1)\n",
    "# pset.addPrimitive(compute_magnitude, 1)\n",
    "# pset.addPrimitive(distance, 2)\n",
    "\n",
    "\n",
    "# PRIMITIVES\n",
    "pset.addTerminal(-1)\n",
    "pset.addTerminal(np.pi)\n",
    "# ephemeral constants\n",
    "pset.addEphemeralConstant(\"rand101\", partial(random.randint, -2, 2))\n",
    "pset.addEphemeralConstant(\"rand102\", partial(random.randint, -2, 2))\n",
    "pset.addEphemeralConstant(\"rand103\", partial(random.randint, -2, 2))\n",
    "\n",
    "\n",
    "# variables\n",
    "pset.renameArguments(ARG0=\"swarm\")\n",
    "pset.renameArguments(ARG1=\"vel\")\n",
    "pset.renameArguments(ARG2='gbest')\n",
    "pset.renameArguments(ARG3='pbest')"
   ]
  },
  {
   "cell_type": "code",
   "execution_count": 15,
   "metadata": {},
   "outputs": [],
   "source": [
    "creator.create(\"FitnessMin\", base.Fitness, weights=(-1.0,))\n",
    "creator.create(\"Individual\", gp.PrimitiveTree, fitness=creator.FitnessMin)\n",
    "\n",
    "toolbox = base.Toolbox()\n",
    "toolbox.register(\"expr\", gp.genHalfAndHalf, pset=pset, min_=1, max_=2)\n",
    "toolbox.register(\"individual\", tools.initIterate, creator.Individual, toolbox.expr)\n",
    "toolbox.register(\"population\", tools.initRepeat, list, toolbox.individual)\n",
    "toolbox.register(\"compile\", gp.compile, pset=pset)"
   ]
  },
  {
   "cell_type": "code",
   "execution_count": null,
   "metadata": {},
   "outputs": [],
   "source": [
    "def GPFitness(individual):\n",
    "    vel_update = toolbox.compile(expr=individual)\n",
    "    S = SwarmGP(SWARM_SIZE, land, vel_update, )"
   ]
  }
 ],
 "metadata": {
  "language_info": {
   "name": "python"
  }
 },
 "nbformat": 4,
 "nbformat_minor": 2
}
