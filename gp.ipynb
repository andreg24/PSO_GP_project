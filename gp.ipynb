{
 "cells": [
  {
   "cell_type": "code",
   "execution_count": 1,
   "metadata": {},
   "outputs": [],
   "source": [
    "import operator\n",
    "import math\n",
    "import random\n",
    "\n",
    "import numpy\n",
    "\n",
    "from functools import partial\n",
    "\n",
    "from deap import algorithms\n",
    "from deap import base\n",
    "from deap import creator\n",
    "from deap import tools\n",
    "from deap import gp\n",
    "\n",
    "from pso_utils import *\n",
    "from landscapes import *"
   ]
  },
  {
   "cell_type": "code",
   "execution_count": null,
   "metadata": {},
   "outputs": [],
   "source": [
    "SWARM_SIZE = 50 # increase time x2\n",
    "NUM_ITERATIONS = 100 # increase time x5\n",
    "NUM_PROBLEMS = 100"
   ]
  },
  {
   "cell_type": "code",
   "execution_count": 5,
   "metadata": {},
   "outputs": [],
   "source": [
    "pset = gp.PrimitiveSet(\"MAIN\", 6)\n",
    "# basic\n",
    "pset.addPrimitive(np.add, 2)\n",
    "pset.addPrimitive(np.negative, 1)\n",
    "pset.addPrimitive(np.subtract, 2)\n",
    "pset.addPrimitive(np.multiply, 2)\n",
    "\n",
    "# # random\n",
    "# pset.addPrimitive(gen_random, 1)\n",
    "\n",
    "# others\n",
    "# pset.addPrimitive(np.cos, 1)\n",
    "# pset.addPrimitive(np.sin, 1)\n",
    "# pset.addPrimitive(compute_magnitude, 1)\n",
    "# pset.addPrimitive(distance, 2)\n",
    "\n",
    "\n",
    "# PRIMITIVES\n",
    "pset.addTerminal(-1)\n",
    "pset.addTerminal(np.pi)\n",
    "# ephemeral constants\n",
    "pset.addEphemeralConstant(\"rand101\", partial(random.randint, -2, 2))\n",
    "pset.addEphemeralConstant(\"rand102\", partial(random.randint, -2, 2))\n",
    "pset.addEphemeralConstant(\"rand103\", partial(random.randint, -2, 2))\n",
    "\n",
    "\n",
    "# variables\n",
    "pset.renameArguments(ARG0=\"swarm\")\n",
    "pset.renameArguments(ARG1=\"vel\")\n",
    "pset.renameArguments(ARG2='gbest')\n",
    "pset.renameArguments(ARG3='pbest')\n",
    "pset.renameArguments(ARG4='center')\n",
    "pset.renameArguments(ARG5='dispersion')"
   ]
  },
  {
   "cell_type": "code",
   "execution_count": 6,
   "metadata": {},
   "outputs": [
    {
     "name": "stderr",
     "output_type": "stream",
     "text": [
      "c:\\Users\\andre\\AppData\\Local\\Programs\\Python\\Python312\\Lib\\site-packages\\deap\\creator.py:185: RuntimeWarning: A class named 'FitnessMin' has already been created and it will be overwritten. Consider deleting previous creation of that class or rename it.\n",
      "  warnings.warn(\"A class named '{0}' has already been created and it \"\n",
      "c:\\Users\\andre\\AppData\\Local\\Programs\\Python\\Python312\\Lib\\site-packages\\deap\\creator.py:185: RuntimeWarning: A class named 'Individual' has already been created and it will be overwritten. Consider deleting previous creation of that class or rename it.\n",
      "  warnings.warn(\"A class named '{0}' has already been created and it \"\n"
     ]
    }
   ],
   "source": [
    "creator.create(\"FitnessMin\", base.Fitness, weights=(-1.0,))\n",
    "creator.create(\"Individual\", gp.PrimitiveTree, fitness=creator.FitnessMin)\n",
    "\n",
    "toolbox = base.Toolbox()\n",
    "toolbox.register(\"expr\", gp.genHalfAndHalf, pset=pset, min_=1, max_=2)\n",
    "toolbox.register(\"individual\", tools.initIterate, creator.Individual, toolbox.expr)\n",
    "toolbox.register(\"population\", tools.initRepeat, list, toolbox.individual)\n",
    "toolbox.register(\"compile\", gp.compile, pset=pset)"
   ]
  },
  {
   "cell_type": "code",
   "execution_count": 18,
   "metadata": {},
   "outputs": [],
   "source": [
    "def GPFitness(individual, problems):\n",
    "    func = toolbox.compile(expr=individual)\n",
    "    print(func)\n",
    "    vel_update = toolbox.compile(expr=individual)\n",
    "    S = SwarmGP(SWARM_SIZE, vel_update=vel_update)\n",
    "    results = PSOResults(S, problems)\n",
    "    return float()"
   ]
  },
  {
   "cell_type": "code",
   "execution_count": 22,
   "metadata": {},
   "outputs": [
    {
     "data": {
      "text/plain": [
       "[<deap.gp.Primitive at 0x16c3fdcb1a0>,\n",
       " <deap.gp.Terminal at 0x16c3fe0d040>,\n",
       " <deap.gp.Terminal at 0x16c3fe0d280>]"
      ]
     },
     "execution_count": 22,
     "metadata": {},
     "output_type": "execute_result"
    }
   ],
   "source": [
    "ind = toolbox.individual()\n",
    "ind"
   ]
  },
  {
   "cell_type": "code",
   "execution_count": 23,
   "metadata": {},
   "outputs": [
    {
     "ename": "NameError",
     "evalue": "name 'problems_gp' is not defined",
     "output_type": "error",
     "traceback": [
      "\u001b[1;31m---------------------------------------------------------------------------\u001b[0m",
      "\u001b[1;31mNameError\u001b[0m                                 Traceback (most recent call last)",
      "Cell \u001b[1;32mIn[23], line 1\u001b[0m\n\u001b[1;32m----> 1\u001b[0m GPFitness(ind, \u001b[43mproblems_gp\u001b[49m)\n",
      "\u001b[1;31mNameError\u001b[0m: name 'problems_gp' is not defined"
     ]
    }
   ],
   "source": [
    "GPFitness(ind, problems_gp)"
   ]
  }
 ],
 "metadata": {
  "kernelspec": {
   "display_name": "Python 3",
   "language": "python",
   "name": "python3"
  },
  "language_info": {
   "codemirror_mode": {
    "name": "ipython",
    "version": 3
   },
   "file_extension": ".py",
   "mimetype": "text/x-python",
   "name": "python",
   "nbconvert_exporter": "python",
   "pygments_lexer": "ipython3",
   "version": "3.12.2"
  }
 },
 "nbformat": 4,
 "nbformat_minor": 2
}
