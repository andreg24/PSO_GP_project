{
 "cells": [
  {
   "cell_type": "code",
   "execution_count": 1,
   "metadata": {},
   "outputs": [],
   "source": [
    "import operator\n",
    "import math\n",
    "import random\n",
    "import numpy as np\n",
    "import matplotlib.pyplot as plt\n",
    "from pso_utils import *\n",
    "\n",
    "from deap import base, creator, gp, tools, algorithms"
   ]
  },
  {
   "cell_type": "code",
   "execution_count": 12,
   "metadata": {},
   "outputs": [],
   "source": [
    "def target_function(x: np.ndarray, y: np.ndarray):\n",
    "    return np.add(np.exp(x), np.power(-y, 3))"
   ]
  },
  {
   "cell_type": "markdown",
   "metadata": {},
   "source": [
    "# Basic example"
   ]
  },
  {
   "cell_type": "code",
   "execution_count": 13,
   "metadata": {},
   "outputs": [],
   "source": [
    "def target(x, y):\n",
    "    return np.sin(3*x) - np.sin(3*y)"
   ]
  },
  {
   "cell_type": "code",
   "execution_count": null,
   "metadata": {},
   "outputs": [],
   "source": [
    "# real primitives"
   ]
  },
  {
   "cell_type": "code",
   "execution_count": 14,
   "metadata": {},
   "outputs": [],
   "source": [
    "pset = gp.PrimitiveSet(\"MAIN\", 2)\n",
    "pset.addPrimitive(np.add, 2)\n",
    "pset.addPrimitive(np.negative, 1)\n",
    "pset.addPrimitive(np.subtract, 2)\n",
    "pset.addPrimitive(np.multiply, 2)\n",
    "pset.addPrimitive(np.sin, 1)\n",
    "pset.addPrimitive(np.cos, 1)\n",
    "pset.addPrimitive(np.sqrt, 1)\n",
    "\n",
    "pset.addTerminal(3)\n",
    "pset.renameArguments(ARG0=\"x\")\n",
    "pset.renameArguments(ARG1=\"y\")"
   ]
  },
  {
   "cell_type": "code",
   "execution_count": 15,
   "metadata": {},
   "outputs": [],
   "source": [
    "expr = gp.genFull(pset, min_=1, max_=3)\n",
    "tree = gp.PrimitiveTree(expr)"
   ]
  },
  {
   "cell_type": "code",
   "execution_count": 16,
   "metadata": {},
   "outputs": [
    {
     "data": {
      "text/plain": [
       "[<deap.gp.Primitive at 0x280fcd567f0>,\n",
       " <deap.gp.Terminal at 0x280fe591c80>,\n",
       " <deap.gp.Terminal at 0x280fe5917c0>]"
      ]
     },
     "execution_count": 16,
     "metadata": {},
     "output_type": "execute_result"
    }
   ],
   "source": [
    "tree"
   ]
  },
  {
   "cell_type": "code",
   "execution_count": 17,
   "metadata": {},
   "outputs": [
    {
     "name": "stderr",
     "output_type": "stream",
     "text": [
      "c:\\Users\\andre\\AppData\\Local\\Programs\\Python\\Python312\\Lib\\site-packages\\deap\\creator.py:185: RuntimeWarning: A class named 'FitnessMin' has already been created and it will be overwritten. Consider deleting previous creation of that class or rename it.\n",
      "  warnings.warn(\"A class named '{0}' has already been created and it \"\n",
      "c:\\Users\\andre\\AppData\\Local\\Programs\\Python\\Python312\\Lib\\site-packages\\deap\\creator.py:185: RuntimeWarning: A class named 'Individual' has already been created and it will be overwritten. Consider deleting previous creation of that class or rename it.\n",
      "  warnings.warn(\"A class named '{0}' has already been created and it \"\n"
     ]
    }
   ],
   "source": [
    "# generation of tree individuals\n",
    "\n",
    "creator.create('FitnessMin', base.Fitness, weights=(-1.0,))\n",
    "creator.create('Individual', gp.PrimitiveTree, fitness=creator.FitnessMin, pset=pset)"
   ]
  },
  {
   "cell_type": "code",
   "execution_count": 18,
   "metadata": {},
   "outputs": [],
   "source": [
    "# register generation function in a toolbox\n",
    "\n",
    "toolbox = base.Toolbox()\n",
    "toolbox.register('expr', gp.genHalfAndHalf, pset=pset, min_=1, max_=3)\n",
    "toolbox.register('individual', tools.initIterate, creator.Individual, toolbox.expr)\n",
    "toolbox.register('population', tools.initRepeat, list, toolbox.individual)\n",
    "toolbox.register('compile', gp.compile, pset=pset)"
   ]
  },
  {
   "cell_type": "code",
   "execution_count": 19,
   "metadata": {},
   "outputs": [
    {
     "name": "stdout",
     "output_type": "stream",
     "text": [
      "sin(3)\n"
     ]
    }
   ],
   "source": [
    "# visualize tree with str() or compile the function\n",
    "\n",
    "expr = gp.genFull(pset, min_=1, max_=3)\n",
    "\n",
    "tree = gp.PrimitiveTree(expr)\n",
    "print(str(tree))\n",
    "func = gp.compile(tree, pset)"
   ]
  },
  {
   "cell_type": "code",
   "execution_count": 20,
   "metadata": {},
   "outputs": [],
   "source": [
    "def evalSymbReg(individual, points):\n",
    "    # trasform tree expression in a callable function\n",
    "    func = toolbox.compile(expr=individual)\n",
    "\n",
    "    # evaluate the mean squared error\n",
    "    sqerrors = ((func(x) - target(x))**2 for x in points)\n",
    "    return math.fsum(sqerrors) / len(points)"
   ]
  },
  {
   "cell_type": "code",
   "execution_count": 21,
   "metadata": {},
   "outputs": [],
   "source": [
    "toolbox.register('evaluate', evalSymbReg, points=[x/10. for x in range(-10,10)])\n",
    "toolbox.register('select', tools.selTournament, tournsize=3)\n",
    "toolbox.register('mate', gp.cxOnePoint)\n",
    "toolbox.register(\"expr_mut\", gp.genFull, min_=0, max_=2)\n",
    "toolbox.register(\"mutate\", gp.mutUniform, expr=toolbox.expr_mut, pset=pset)"
   ]
  },
  {
   "cell_type": "code",
   "execution_count": 22,
   "metadata": {},
   "outputs": [],
   "source": [
    "def GPrun():\n",
    "    random.seed(318)\n",
    "\n",
    "    pop = toolbox.population(n=300)\n",
    "    hof = tools.HallOfFame(1)"
   ]
  },
  {
   "cell_type": "code",
   "execution_count": 23,
   "metadata": {},
   "outputs": [],
   "source": [
    "def target(x):\n",
    "    return 12"
   ]
  },
  {
   "cell_type": "code",
   "execution_count": null,
   "metadata": {},
   "outputs": [
    {
     "name": "stdout",
     "output_type": "stream",
     "text": [
      "   \t      \t                              fitness                              \t                      size                     \n",
      "   \t      \t-------------------------------------------------------------------\t-----------------------------------------------\n",
      "gen\tnevals\tavg        \tgen\tmax        \tmin    \tnevals\tstd        \tavg    \tgen\tmax\tmin\tnevals\tstd    \n",
      "0  \t300   \t1.1913e+30 \t0  \t3.57391e+32\t40.4431\t300   \t2.05995e+31\t3.75333\t0  \t7  \t2  \t300   \t1.55964\n",
      "1  \t156   \t123.073    \t1  \t229.2      \t29.9483\t156   \t26.0457    \t3.68   \t1  \t11 \t1  \t156   \t1.57404\n",
      "2  \t171   \t114.119    \t2  \t248.729    \t12.8536\t171   \t34.3199    \t4.16667\t2  \t11 \t1  \t171   \t1.80524\n",
      "3  \t188   \t102.273    \t3  \t247.842    \t12.8536\t188   \t33.4046    \t4.53   \t3  \t15 \t1  \t188   \t2.06133\n",
      "4  \t180   \t93.3697    \t4  \t258.1      \t9.18272\t180   \t38.0594    \t4.62   \t4  \t15 \t1  \t180   \t2.18226\n",
      "5  \t143   \t72.7703    \t5  \t197.4      \t8.32218\t143   \t27.229     \t5.35   \t5  \t15 \t1  \t143   \t2.84854\n",
      "6  \t179   \t69.7391    \t6  \t349.116    \t6.55794\t179   \t38.2625    \t6.59333\t6  \t20 \t1  \t179   \t3.11362\n",
      "7  \t168   \t58.362     \t7  \t274.242    \t6.55794\t168   \t39.5281    \t7.92   \t7  \t18 \t1  \t168   \t3.34469\n",
      "8  \t157   \t2.63107e+30\t8  \t7.89321e+32\t5.46338\t157   \t4.54955e+31\t9.46   \t8  \t25 \t1  \t157   \t3.75256\n",
      "9  \t158   \t49.3092    \t9  \t2478.18    \t5.46338\t158   \t158.218    \t11.0633\t9  \t27 \t1  \t158   \t4.37485\n",
      "10 \t153   \t33.1835    \t10 \t338.057    \t5.46338\t153   \t44.5992    \t11.8767\t10 \t27 \t1  \t153   \t4.61174\n",
      "11 \t162   \t8.89031e+29\t11 \t2.66709e+32\t5.46338\t162   \t1.53728e+31\t12.47  \t11 \t30 \t3  \t162   \t4.54046\n",
      "12 \t170   \t36.6041    \t12 \t1143.91    \t5.46338\t170   \t100.222    \t11.5533\t12 \t29 \t1  \t170   \t4.04481\n",
      "13 \t173   \t63.1163    \t13 \t3240.97    \t4.9    \t173   \t224.393    \t10.7033\t13 \t26 \t3  \t173   \t4.02103\n",
      "14 \t163   \t65.941     \t14 \t3022.52    \t4.9    \t163   \t234.131    \t9.85333\t14 \t25 \t1  \t163   \t3.761  \n",
      "15 \t153   \t73.0465    \t15 \t2139.76    \t4.9    \t153   \t240.464    \t8.97   \t15 \t19 \t1  \t153   \t2.93526\n",
      "16 \t158   \t70.7207    \t16 \t1532.74    \t4.9    \t158   \t168.307    \t8.09333\t16 \t17 \t1  \t158   \t2.50691\n",
      "17 \t146   \t45.1948    \t17 \t433.722    \t4.9    \t146   \t79.4331    \t7.59   \t17 \t15 \t1  \t146   \t2.16685\n",
      "18 \t178   \t145.737    \t18 \t27693.9    \t4.9    \t178   \t1596.14    \t7.36   \t18 \t15 \t1  \t178   \t1.91583\n",
      "19 \t159   \t57.538     \t19 \t813.205    \t4.9    \t159   \t103.66     \t7.04333\t19 \t13 \t1  \t159   \t1.43578\n",
      "20 \t187   \t49.0503    \t20 \t433.722    \t4.9    \t187   \t80.5163    \t7.10667\t20 \t13 \t1  \t187   \t1.48838\n",
      "21 \t162   \t3.55613e+30\t21 \t1.06684e+33\t4.9    \t162   \t6.14912e+31\t7.12667\t21 \t15 \t1  \t162   \t1.31299\n",
      "22 \t170   \t45.7984    \t22 \t406.3      \t4.9    \t170   \t78.4662    \t7.05667\t22 \t12 \t2  \t170   \t1.21934\n",
      "23 \t158   \t47.6133    \t23 \t433.722    \t4.9    \t158   \t79.9793    \t7.14333\t23 \t15 \t3  \t158   \t1.34764\n",
      "24 \t170   \t44.5999    \t24 \t1022.18    \t4.9    \t170   \t88.9217    \t7.10667\t24 \t14 \t1  \t170   \t1.46354\n",
      "25 \t167   \t52.8412    \t25 \t524.253    \t4.9    \t167   \t87.9656    \t7.23667\t25 \t15 \t3  \t167   \t1.48795\n",
      "26 \t158   \t53.8046    \t26 \t403.5      \t4.9    \t158   \t84.2578    \t7.17667\t26 \t15 \t1  \t158   \t1.54665\n",
      "27 \t154   \t43.3372    \t27 \t583.7      \t4.9    \t154   \t81.2929    \t7.15   \t27 \t15 \t3  \t154   \t1.43788\n",
      "28 \t172   \t52.115     \t28 \t406.3      \t4.9    \t172   \t88.7266    \t7.13333\t28 \t13 \t1  \t172   \t1.47271\n",
      "29 \t175   \t63.7364    \t29 \t906.3      \t4.9    \t175   \t113.194    \t7.06333\t29 \t13 \t1  \t175   \t1.49644\n",
      "30 \t163   \t56.6876    \t30 \t791.7      \t4.9    \t163   \t90.6053    \t7.19667\t30 \t14 \t2  \t163   \t1.4599 \n",
      "31 \t166   \t52.0929    \t31 \t488.9      \t4.9    \t166   \t86.0617    \t7.14   \t31 \t13 \t1  \t166   \t1.66345\n",
      "32 \t168   \t51.9875    \t32 \t674.643    \t4.9    \t168   \t89.7911    \t7.05   \t32 \t13 \t1  \t168   \t1.63733\n",
      "33 \t153   \t52.1014    \t33 \t451.867    \t4.9    \t153   \t87.5883    \t7.19   \t33 \t16 \t1  \t153   \t1.5601 \n",
      "34 \t167   \t67.7853    \t34 \t523.08     \t4.9    \t167   \t102.094    \t7.02667\t34 \t14 \t1  \t167   \t1.44659\n",
      "35 \t162   \t48.5671    \t35 \t406.3      \t4.9    \t162   \t77.8895    \t7.20667\t35 \t19 \t3  \t162   \t1.60124\n",
      "36 \t179   \t73.1601    \t36 \t817.833    \t4.9    \t179   \t112.397    \t7.07667\t36 \t19 \t1  \t179   \t1.87549\n",
      "37 \t171   \t57.7402    \t37 \t712.01     \t4.9    \t171   \t96.2996    \t7.25   \t37 \t15 \t1  \t171   \t1.70123\n",
      "38 \t162   \t47.0518    \t38 \t625.2      \t4.9    \t162   \t87.92      \t7.17   \t38 \t15 \t1  \t162   \t1.73237\n",
      "39 \t170   \t49.4025    \t39 \t406.3      \t4.9    \t170   \t79.9642    \t7.07333\t39 \t13 \t1  \t170   \t1.47917\n",
      "40 \t166   \t40.2204    \t40 \t403.5      \t4.9    \t166   \t69.8415    \t7.13667\t40 \t11 \t1  \t166   \t1.26938\n",
      "41 \t160   \t46.6905    \t41 \t488.9      \t4.9    \t160   \t81.8584    \t7.11667\t41 \t14 \t1  \t160   \t1.48651\n",
      "42 \t144   \t46.4468    \t42 \t522.153    \t4.9    \t144   \t82.2007    \t7.05   \t42 \t13 \t1  \t144   \t1.58771\n",
      "43 \t169   \t58.0863    \t43 \t1099.5     \t4.9    \t169   \t107.817    \t7.11333\t43 \t15 \t1  \t169   \t1.70308\n",
      "44 \t170   \t43.778     \t44 \t404.9      \t4.9    \t170   \t72.4623    \t7.08333\t44 \t13 \t1  \t170   \t1.46164\n",
      "45 \t173   \t47.1032    \t45 \t403.5      \t4.9    \t173   \t80.0869    \t7.09   \t45 \t14 \t1  \t173   \t1.61097\n",
      "46 \t151   \t40.2909    \t46 \t421.76     \t4.9    \t151   \t70.7784    \t7.17333\t46 \t13 \t3  \t151   \t1.35276\n",
      "47 \t166   \t58.2378    \t47 \t1235.09    \t4.9    \t166   \t128.869    \t7.02667\t47 \t15 \t1  \t166   \t1.54681\n",
      "48 \t159   \t52.1441    \t48 \t788.9      \t4.9    \t159   \t103.122    \t7.07333\t48 \t13 \t1  \t159   \t1.48592\n",
      "49 \t151   \t58.8708    \t49 \t2325.23    \t4.9    \t151   \t158.771    \t7.16333\t49 \t13 \t3  \t151   \t1.50665\n",
      "50 \t150   \t62.9387    \t50 \t1363.77    \t4.9    \t150   \t127.581    \t7.16333\t50 \t14 \t1  \t150   \t1.60312\n",
      "51 \t168   \t45.9222    \t51 \t403.5      \t4.9    \t168   \t77.8738    \t7.09   \t51 \t16 \t2  \t168   \t1.57117\n",
      "52 \t186   \t62.0969    \t52 \t762.29     \t4.9    \t186   \t103.765    \t7.09667\t52 \t14 \t1  \t186   \t1.44014\n",
      "53 \t158   \t51.2115    \t53 \t434.655    \t4.9    \t158   \t81.0969    \t7.12   \t53 \t15 \t1  \t158   \t1.71044\n",
      "54 \t156   \t50.5333    \t54 \t403.5      \t4.9    \t156   \t81.0885    \t7.13333\t54 \t17 \t2  \t156   \t1.60069\n",
      "55 \t165   \t53.2791    \t55 \t403.5      \t4.9    \t165   \t85.5358    \t7.03   \t55 \t15 \t1  \t165   \t1.40087\n",
      "56 \t154   \t53.9261    \t56 \t1026.96    \t4.9    \t154   \t104.308    \t7.05   \t56 \t13 \t1  \t154   \t1.25996\n",
      "57 \t146   \t90.7754    \t57 \t11991.3    \t4.9    \t146   \t694.432    \t7      \t57 \t11 \t1  \t146   \t1.17473\n",
      "58 \t167   \t60.1368    \t58 \t1062.95    \t4.9    \t167   \t102.945    \t6.97333\t58 \t13 \t1  \t167   \t1.483  \n",
      "59 \t177   \t53.4593    \t59 \t403.5      \t4.9    \t177   \t86.4816    \t7.08   \t59 \t13 \t1  \t177   \t1.58753\n",
      "60 \t157   \t44.8374    \t60 \t488.9      \t4.9    \t157   \t72.683     \t7.03667\t60 \t13 \t1  \t157   \t1.52381\n",
      "61 \t178   \t64.6434    \t61 \t403.5      \t4.9    \t178   \t96.4599    \t6.96667\t61 \t14 \t2  \t178   \t1.39244\n",
      "62 \t165   \t47.3874    \t62 \t583.7      \t4.9    \t165   \t81.2535    \t7.19333\t62 \t13 \t2  \t165   \t1.38659\n",
      "63 \t158   \t4.63446e+30\t63 \t1.39034e+33\t4.9    \t158   \t8.01373e+31\t7.23   \t63 \t15 \t3  \t158   \t1.61568\n",
      "64 \t162   \t53.0612    \t64 \t403.5      \t4.9    \t162   \t90.2711    \t7.04333\t64 \t14 \t1  \t162   \t1.44964\n",
      "65 \t163   \t54.3441    \t65 \t403.5      \t4.9    \t163   \t83.7959    \t7.13   \t65 \t15 \t1  \t163   \t1.47188\n",
      "66 \t169   \t50.4204    \t66 \t459.463    \t4.9    \t169   \t85.1996    \t7.03   \t66 \t13 \t1  \t169   \t1.48406\n",
      "67 \t169   \t51.2445    \t67 \t582.3      \t4.9    \t169   \t92.9304    \t7.10667\t67 \t13 \t1  \t169   \t1.42897\n",
      "68 \t196   \t2.33579e+30\t68 \t7.00736e+32\t4.9    \t196   \t4.03895e+31\t7.09333\t68 \t14 \t1  \t196   \t1.53773\n",
      "69 \t162   \t54.7516    \t69 \t788.9      \t4.9    \t162   \t82.6139    \t7.06667\t69 \t13 \t1  \t162   \t1.43139\n",
      "70 \t185   \t73.6525    \t70 \t580.9      \t4.9    \t185   \t106.56     \t7.11   \t70 \t15 \t2  \t185   \t1.43454\n",
      "71 \t169   \t63.0144    \t71 \t790.3      \t4.9    \t169   \t97.4424    \t6.98333\t71 \t14 \t1  \t169   \t1.53722\n",
      "72 \t170   \t51.5668    \t72 \t403.5      \t4.9    \t170   \t83.9646    \t6.87667\t72 \t12 \t1  \t170   \t1.47472\n",
      "73 \t172   \t74.7871    \t73 \t1948.53    \t4.9    \t172   \t147.719    \t7.09333\t73 \t15 \t1  \t172   \t1.61388\n",
      "74 \t159   \t47.4392    \t74 \t1385.84    \t4.9    \t159   \t104.199    \t7.13667\t74 \t13 \t1  \t159   \t1.48705\n",
      "75 \t164   \t56.7222    \t75 \t605.67     \t4.9    \t164   \t94.6403    \t6.99667\t75 \t13 \t1  \t164   \t1.51107\n",
      "76 \t159   \t1.97424e+31\t76 \t5.92271e+33\t4.9    \t159   \t3.41377e+32\t7.15333\t76 \t13 \t1  \t159   \t1.43172\n",
      "77 \t162   \t56.5369    \t77 \t1589.23    \t4.9    \t162   \t123.378    \t7.1    \t77 \t14 \t1  \t162   \t1.64215\n",
      "78 \t184   \t67.9343    \t78 \t2356.37    \t4.9    \t184   \t163.12     \t7.15   \t78 \t16 \t1  \t184   \t1.93585\n",
      "79 \t156   \t47.8028    \t79 \t970.12     \t4.9    \t156   \t96.3156    \t7.11333\t79 \t15 \t1  \t156   \t1.50571\n",
      "80 \t146   \t59.602     \t80 \t1013.35    \t4.9    \t146   \t105.093    \t7.07333\t80 \t12 \t2  \t146   \t1.44958\n",
      "81 \t150   \t49.7523    \t81 \t762.29     \t4.9    \t150   \t95.7275    \t7.12667\t81 \t14 \t3  \t150   \t1.28994\n",
      "82 \t137   \t43.494     \t82 \t403.5      \t4.9    \t137   \t75.804     \t6.98   \t82 \t14 \t1  \t137   \t1.26475\n",
      "83 \t162   \t63.3376    \t83 \t668.827    \t4.9    \t162   \t107.397    \t7.12333\t83 \t14 \t1  \t162   \t1.41708\n",
      "84 \t178   \t60.6354    \t84 \t403.5      \t4.9    \t178   \t91.5616    \t7.02667\t84 \t13 \t1  \t178   \t1.51194\n",
      "85 \t153   \t50.9219    \t85 \t588.896    \t4.9    \t153   \t90.4346    \t7.11   \t85 \t14 \t1  \t153   \t1.59934\n",
      "86 \t165   \t202.833    \t86 \t45191.6    \t4.9    \t165   \t2603.66    \t7.12333\t86 \t15 \t1  \t165   \t1.59419\n",
      "87 \t164   \t51.8731    \t87 \t470.729    \t4.9    \t164   \t82.1146    \t7.15667\t87 \t13 \t1  \t164   \t1.45561\n",
      "88 \t164   \t52.3242    \t88 \t580.9      \t4.9    \t164   \t86.3137    \t7.11   \t88 \t14 \t1  \t164   \t1.42755\n",
      "89 \t166   \t45.369     \t89 \t488.9      \t4.9    \t166   \t77.9604    \t7.09667\t89 \t12 \t2  \t166   \t1.39546\n",
      "90 \t178   \t91.8585    \t90 \t9665.44    \t4.9    \t178   \t561.569    \t7.06667\t90 \t13 \t1  \t178   \t1.62138\n",
      "91 \t165   \t52.0115    \t91 \t1030.3     \t4.9    \t165   \t103.108    \t7.07667\t91 \t13 \t2  \t165   \t1.37263\n",
      "92 \t182   \t74.417     \t92 \t1143.15    \t4.9    \t182   \t122.044    \t6.93667\t92 \t13 \t1  \t182   \t1.50974\n",
      "93 \t160   \t53.1135    \t93 \t403.5      \t4.9    \t160   \t82.0899    \t6.97667\t93 \t15 \t1  \t160   \t1.51969\n",
      "94 \t181   \t64.0018    \t94 \t582.3      \t4.9    \t181   \t97.1574    \t7.08667\t94 \t13 \t1  \t181   \t1.45115\n",
      "95 \t194   \t48.2803    \t95 \t644.643    \t4.9    \t194   \t81.7011    \t7.19667\t95 \t15 \t3  \t194   \t1.56992\n",
      "96 \t168   \t53.382     \t96 \t759.938    \t4.9    \t168   \t91.6236    \t7.08333\t96 \t13 \t2  \t168   \t1.36981\n",
      "97 \t149   \t53.0355    \t97 \t403.5      \t4.9    \t149   \t84.2385    \t7.06667\t97 \t15 \t1  \t149   \t1.51291\n",
      "98 \t181   \t64.9172    \t98 \t520.753    \t4.9    \t181   \t99.4546    \t7.12667\t98 \t15 \t1  \t181   \t1.47556\n",
      "99 \t173   \t52.7744    \t99 \t582.3      \t4.9    \t173   \t87.1399    \t7.03333\t99 \t15 \t1  \t173   \t1.47611\n",
      "100\t185   \t51.3671    \t100\t406.3      \t4.9    \t185   \t88.1885    \t6.95333\t100\t11 \t1  \t185   \t1.39445\n"
     ]
    }
   ],
   "source": [
    "#    This file is part of EAP.\n",
    "#\n",
    "#    EAP is free software: you can redistribute it and/or modify\n",
    "#    it under the terms of the GNU Lesser General Public License as\n",
    "#    published by the Free Software Foundation, either version 3 of\n",
    "#    the License, or (at your option) any later version.\n",
    "#\n",
    "#    EAP is distributed in the hope that it will be useful,\n",
    "#    but WITHOUT ANY WARRANTY; without even the implied warranty of\n",
    "#    MERCHANTABILITY or FITNESS FOR A PARTICULAR PURPOSE. See the\n",
    "#    GNU Lesser General Public License for more details.\n",
    "#\n",
    "#    You should have received a copy of the GNU Lesser General Public\n",
    "#    License along with EAP. If not, see <http://www.gnu.org/licenses/>.\n",
    "\n",
    "import operator\n",
    "import math\n",
    "import random\n",
    "\n",
    "import numpy\n",
    "\n",
    "from functools import partial\n",
    "\n",
    "from deap import algorithms\n",
    "from deap import base\n",
    "from deap import creator\n",
    "from deap import tools\n",
    "from deap import gp\n",
    "\n",
    "# Define new functions\n",
    "def protectedDiv(left, right):\n",
    "    try:\n",
    "        return left / right\n",
    "    except ZeroDivisionError:\n",
    "        return 1\n",
    "\n",
    "pset = gp.PrimitiveSet(\"MAIN\", 1)\n",
    "pset.addPrimitive(operator.add, 2)\n",
    "pset.addPrimitive(operator.sub, 2)\n",
    "pset.addPrimitive(operator.mul, 2)\n",
    "pset.addPrimitive(protectedDiv, 2)\n",
    "pset.addPrimitive(operator.neg, 1)\n",
    "# insert np random uniform\n",
    "pset.addPrimitive(math.cos, 1)\n",
    "pset.addPrimitive(math.sin, 1)\n",
    "pset.addPrimitive(random.uniform, 2)\n",
    "pset.addEphemeralConstant(\"rand101\", partial(random.randint, -2, 2))\n",
    "pset.addEphemeralConstant(\"rand102\", partial(random.randint, -2, 2))\n",
    "pset.addTerminal(math.pi/2)\n",
    "pset.renameArguments(ARG0='x')\n",
    "\n",
    "creator.create(\"FitnessMin\", base.Fitness, weights=(-1.0,))\n",
    "creator.create(\"Individual\", gp.PrimitiveTree, fitness=creator.FitnessMin)\n",
    "\n",
    "toolbox = base.Toolbox()\n",
    "toolbox.register(\"expr\", gp.genHalfAndHalf, pset=pset, min_=1, max_=2)\n",
    "toolbox.register(\"individual\", tools.initIterate, creator.Individual, toolbox.expr)\n",
    "toolbox.register(\"population\", tools.initRepeat, list, toolbox.individual)\n",
    "toolbox.register(\"compile\", gp.compile, pset=pset)\n",
    "\n",
    "def evalSymbReg(individual, points):\n",
    "    # Transform the tree expression in a callable function\n",
    "    func = toolbox.compile(expr=individual)\n",
    "    # Evaluate the mean squared error between the expression\n",
    "    # and the real function : x**4 + x**3 + x**2 + x\n",
    "    sqerrors = ((func(x) -  target(x))**2 for x in points) # x**4 - x**3 - x**2 - x -\n",
    "    return math.fsum(sqerrors) / len(points) + 0.7*len(individual),\n",
    "\n",
    "toolbox.register(\"evaluate\", evalSymbReg, points=[x/10. for x in range(-10,10)])\n",
    "toolbox.register(\"select\", tools.selTournament, tournsize=3) # selction\n",
    "toolbox.register(\"mate\", gp.cxOnePoint) # crossover\n",
    "toolbox.register(\"expr_mut\", gp.genFull, min_=0, max_=2)\n",
    "toolbox.register(\"mutate\", gp.mutUniform, expr=toolbox.expr_mut, pset=pset)\n",
    "\n",
    "toolbox.decorate(\"mate\", gp.staticLimit(key=operator.attrgetter(\"height\"), max_value=17))\n",
    "toolbox.decorate(\"mutate\", gp.staticLimit(key=operator.attrgetter(\"height\"), max_value=17))\n",
    "\n",
    "def main():\n",
    "    random.seed(318)\n",
    "\n",
    "    pop = toolbox.population(n=300)\n",
    "    hof = tools.HallOfFame(1)\n",
    "\n",
    "    stats_fit = tools.Statistics(lambda ind: ind.fitness.values)\n",
    "    stats_size = tools.Statistics(len)\n",
    "    mstats = tools.MultiStatistics(fitness=stats_fit, size=stats_size)\n",
    "    mstats.register(\"avg\", numpy.mean)\n",
    "    mstats.register(\"std\", numpy.std)\n",
    "    mstats.register(\"min\", numpy.min)\n",
    "    mstats.register(\"max\", numpy.max)\n",
    "\n",
    "    pop, log = algorithms.eaSimple(pop, toolbox, 0.5, 0.1, 100, stats=mstats,\n",
    "                                   halloffame=hof, verbose=False)\n",
    "    # print log\n",
    "    return pop, log, hof\n",
    "\n",
    "if __name__ == \"__main__\":\n",
    "    pop, log, hof = main()\n",
    "\n",
    "print(log)"
   ]
  },
  {
   "cell_type": "code",
   "execution_count": 26,
   "metadata": {},
   "outputs": [
    {
     "name": "stdout",
     "output_type": "stream",
     "text": [
      "best solution = mul(add(1, 2), sub(2, -2))\n",
      "best solution size = 7\n"
     ]
    }
   ],
   "source": [
    "print(f'best solution = {str(hof[0])}')\n",
    "print(f'best solution size = {len(hof[0])}')\n",
    "# tree representation\n",
    "\n",
    "func = gp.compile(hof[0], pset)"
   ]
  },
  {
   "cell_type": "code",
   "execution_count": 27,
   "metadata": {},
   "outputs": [
    {
     "data": {
      "text/plain": [
       "[<deap.gp.Primitive at 0x280fe5884f0>,\n",
       " <deap.gp.Primitive at 0x280fe588540>,\n",
       " <deap.gp.rand102 at 0x280fe5d6cb0>,\n",
       " <deap.gp.rand101 at 0x280fe5a1400>,\n",
       " <deap.gp.Primitive at 0x280fe589030>,\n",
       " <deap.gp.rand101 at 0x280fe6644b0>,\n",
       " <deap.gp.rand101 at 0x280fe5d4730>]"
      ]
     },
     "execution_count": 27,
     "metadata": {},
     "output_type": "execute_result"
    }
   ],
   "source": [
    "hof[0]"
   ]
  },
  {
   "cell_type": "code",
   "execution_count": null,
   "metadata": {},
   "outputs": [
    {
     "data": {
      "text/plain": [
       "7"
      ]
     },
     "execution_count": 229,
     "metadata": {},
     "output_type": "execute_result"
    }
   ],
   "source": [
    "len(hof[0])"
   ]
  },
  {
   "cell_type": "code",
   "execution_count": null,
   "metadata": {},
   "outputs": [
    {
     "data": {
      "text/plain": [
       "defaultdict(list,\n",
       "            {object: [<deap.gp.Terminal at 0x28b938c2e80>,\n",
       "              deap.gp.rand101,\n",
       "              <deap.gp.Terminal at 0x28b938aecc0>,\n",
       "              <deap.gp.Terminal at 0x28b938ae4c0>]})"
      ]
     },
     "execution_count": 201,
     "metadata": {},
     "output_type": "execute_result"
    }
   ],
   "source": [
    "pset.terminals"
   ]
  },
  {
   "cell_type": "code",
   "execution_count": null,
   "metadata": {},
   "outputs": [
    {
     "data": {
      "text/plain": [
       "dict_items([(<class 'object'>, [<deap.gp.Terminal object at 0x0000028B938A3200>, <class 'deap.gp.rand101'>, <deap.gp.Terminal object at 0x0000028B938A2C80>, <deap.gp.Terminal object at 0x0000028B93988280>])])"
      ]
     },
     "execution_count": 157,
     "metadata": {},
     "output_type": "execute_result"
    }
   ],
   "source": [
    "pset.terminals.items()"
   ]
  },
  {
   "cell_type": "code",
   "execution_count": null,
   "metadata": {},
   "outputs": [
    {
     "name": "stdout",
     "output_type": "stream",
     "text": [
      "[<deap.gp.Terminal object at 0x0000028B938A3200>, <class 'deap.gp.rand101'>, <deap.gp.Terminal object at 0x0000028B938A2C80>, <deap.gp.Terminal object at 0x0000028B93988280>]\n"
     ]
    }
   ],
   "source": [
    "for k in term.keys():\n",
    "    print(term[k])"
   ]
  },
  {
   "cell_type": "code",
   "execution_count": null,
   "metadata": {},
   "outputs": [
    {
     "name": "stdout",
     "output_type": "stream",
     "text": [
      "Return type: <class 'object'>\n",
      "  Terminal: <deap.gp.Terminal object at 0x0000028B938A3200>\n",
      "  Terminal: <class 'deap.gp.rand101'>\n",
      "  Terminal: <deap.gp.Terminal object at 0x0000028B938A2C80>\n",
      "  Terminal: <deap.gp.Terminal object at 0x0000028B93988280>\n"
     ]
    }
   ],
   "source": [
    "for ret_type, terminals in pset.terminals.items():\n",
    "    print(f\"Return type: {ret_type}\")\n",
    "    for terminal in terminals:\n",
    "        print(f\"  Terminal: {terminal}\")"
   ]
  },
  {
   "cell_type": "code",
   "execution_count": null,
   "metadata": {},
   "outputs": [
    {
     "name": "stdout",
     "output_type": "stream",
     "text": [
      "Return type: <class 'object'>\n",
      "  Terminal: <deap.gp.Terminal object at 0x0000028B93B7E680>\n",
      "    - Value: ARG0\n",
      "    - Name: ARG0\n",
      "    - Ret Type: <class 'object'>\n",
      "  Terminal: <deap.gp.Terminal object at 0x0000028B93B7E480>\n",
      "    - Value: ARG1\n",
      "    - Name: ARG1\n",
      "    - Ret Type: <class 'object'>\n",
      "  Terminal: <deap.gp.Terminal object at 0x0000028B93B7E2C0>\n",
      "    - Value: 42\n",
      "    - Name: 42\n",
      "    - Ret Type: <class 'object'>\n",
      "  Terminal: <deap.gp.Terminal object at 0x0000028B93B7E3C0>\n",
      "    - Value: Hello\n",
      "    - Name: Hello\n",
      "    - Ret Type: <class 'object'>\n"
     ]
    }
   ],
   "source": [
    "from deap import gp\n",
    "\n",
    "# Example: Creating a PrimitiveSet and Adding Terminals\n",
    "pset = gp.PrimitiveSet(\"MAIN\", 2)  # Two arguments (ARG0, ARG1)\n",
    "pset.addTerminal(42)               # Adding a constant terminal\n",
    "pset.addTerminal(\"Hello\")          # Adding another constant terminal\n",
    "\n",
    "# Inspecting the Terminal Set\n",
    "for ret_type, terminals in pset.terminals.items():\n",
    "    print(f\"Return type: {ret_type}\")\n",
    "    for terminal in terminals:\n",
    "        print(f\"  Terminal: {terminal}\")\n",
    "        print(f\"    - Value: {getattr(terminal, 'value', None)}\")  # The actual value\n",
    "        print(f\"    - Name: {getattr(terminal, 'name', None)}\")    # The name of the terminal\n",
    "        print(f\"    - Ret Type: {terminal.ret}\")                   # Return type of the terminal"
   ]
  },
  {
   "cell_type": "markdown",
   "metadata": {},
   "source": [
    "# PSO-GP"
   ]
  },
  {
   "cell_type": "code",
   "execution_count": 6,
   "metadata": {},
   "outputs": [],
   "source": [
    "import operator\n",
    "import math\n",
    "import random\n",
    "\n",
    "import numpy\n",
    "\n",
    "from functools import partial\n",
    "\n",
    "from deap import algorithms\n",
    "from deap import base\n",
    "from deap import creator\n",
    "from deap import tools\n",
    "from deap import gp\n",
    "\n",
    "from pso_utils import *\n",
    "from landscapes import *"
   ]
  },
  {
   "cell_type": "code",
   "execution_count": 7,
   "metadata": {},
   "outputs": [],
   "source": [
    "def gen_random(_):\n",
    "    n = 500 # number of particles\n",
    "    return np.random.uniform(np.zeros(2), np.ones(2), size=(n, 2))"
   ]
  },
  {
   "cell_type": "code",
   "execution_count": 8,
   "metadata": {},
   "outputs": [],
   "source": [
    "n = 500"
   ]
  },
  {
   "cell_type": "code",
   "execution_count": null,
   "metadata": {},
   "outputs": [],
   "source": [
    "pset = gp.PrimitiveSet(\"MAIN\", 4)\n",
    "# basic\n",
    "pset.addPrimitive(np.add, 2)\n",
    "pset.addPrimitive(np.negative, 1)\n",
    "pset.addPrimitive(np.subtract, 2)\n",
    "pset.addPrimitive(np.multiply, 2)\n",
    "\n",
    "# # random\n",
    "# pset.addPrimitive(gen_random, 1)\n",
    "\n",
    "# others\n",
    "# pset.addPrimitive(np.cos, 1)\n",
    "# pset.addPrimitive(np.sin, 1)\n",
    "# pset.addPrimitive(compute_magnitude, 1)\n",
    "# pset.addPrimitive(distance, 2)\n",
    "\n",
    "\n",
    "# PRIMITIVES\n",
    "pset.addTerminal(-1)\n",
    "pset.addTerminal(np.pi)\n",
    "# ephemeral constants\n",
    "pset.addEphemeralConstant()\n",
    "\n",
    "\n",
    "# variables\n",
    "pset.renameArguments(ARG0=\"swarm\")\n",
    "pset.renameArguments(ARG1=\"vel\")\n",
    "pset.renameArguments(ARG2='gbest')\n",
    "pset.renameArguments(ARG3='pbest')"
   ]
  },
  {
   "cell_type": "code",
   "execution_count": null,
   "metadata": {},
   "outputs": [
    {
     "ename": "TypeError",
     "evalue": "<lambda>() missing 3 required positional arguments: 'vel', 'gbest', and 'pbest'",
     "output_type": "error",
     "traceback": [
      "\u001b[1;31m---------------------------------------------------------------------------\u001b[0m",
      "\u001b[1;31mTypeError\u001b[0m                                 Traceback (most recent call last)",
      "Cell \u001b[1;32mIn[23], line 47\u001b[0m\n\u001b[0;32m     44\u001b[0m     \u001b[38;5;28;01mreturn\u001b[39;00m pop, log, hof\n\u001b[0;32m     46\u001b[0m \u001b[38;5;28;01mif\u001b[39;00m \u001b[38;5;18m__name__\u001b[39m \u001b[38;5;241m==\u001b[39m \u001b[38;5;124m\"\u001b[39m\u001b[38;5;124m__main__\u001b[39m\u001b[38;5;124m\"\u001b[39m:\n\u001b[1;32m---> 47\u001b[0m     pop, log, hof \u001b[38;5;241m=\u001b[39m \u001b[43mmain\u001b[49m\u001b[43m(\u001b[49m\u001b[43m)\u001b[49m\n\u001b[0;32m     49\u001b[0m \u001b[38;5;28mprint\u001b[39m(log)\n",
      "Cell \u001b[1;32mIn[23], line 41\u001b[0m, in \u001b[0;36mmain\u001b[1;34m()\u001b[0m\n\u001b[0;32m     38\u001b[0m mstats\u001b[38;5;241m.\u001b[39mregister(\u001b[38;5;124m\"\u001b[39m\u001b[38;5;124mmin\u001b[39m\u001b[38;5;124m\"\u001b[39m, numpy\u001b[38;5;241m.\u001b[39mmin)\n\u001b[0;32m     39\u001b[0m mstats\u001b[38;5;241m.\u001b[39mregister(\u001b[38;5;124m\"\u001b[39m\u001b[38;5;124mmax\u001b[39m\u001b[38;5;124m\"\u001b[39m, numpy\u001b[38;5;241m.\u001b[39mmax)\n\u001b[1;32m---> 41\u001b[0m pop, log \u001b[38;5;241m=\u001b[39m \u001b[43malgorithms\u001b[49m\u001b[38;5;241;43m.\u001b[39;49m\u001b[43meaSimple\u001b[49m\u001b[43m(\u001b[49m\u001b[43mpop\u001b[49m\u001b[43m,\u001b[49m\u001b[43m \u001b[49m\u001b[43mtoolbox\u001b[49m\u001b[43m,\u001b[49m\u001b[43m \u001b[49m\u001b[38;5;241;43m0.5\u001b[39;49m\u001b[43m,\u001b[49m\u001b[43m \u001b[49m\u001b[38;5;241;43m0.1\u001b[39;49m\u001b[43m,\u001b[49m\u001b[43m \u001b[49m\u001b[38;5;241;43m100\u001b[39;49m\u001b[43m,\u001b[49m\u001b[43m \u001b[49m\u001b[43mstats\u001b[49m\u001b[38;5;241;43m=\u001b[39;49m\u001b[43mmstats\u001b[49m\u001b[43m,\u001b[49m\n\u001b[0;32m     42\u001b[0m \u001b[43m                               \u001b[49m\u001b[43mhalloffame\u001b[49m\u001b[38;5;241;43m=\u001b[39;49m\u001b[43mhof\u001b[49m\u001b[43m,\u001b[49m\u001b[43m \u001b[49m\u001b[43mverbose\u001b[49m\u001b[38;5;241;43m=\u001b[39;49m\u001b[38;5;28;43;01mFalse\u001b[39;49;00m\u001b[43m)\u001b[49m\n\u001b[0;32m     43\u001b[0m \u001b[38;5;66;03m# print log\u001b[39;00m\n\u001b[0;32m     44\u001b[0m \u001b[38;5;28;01mreturn\u001b[39;00m pop, log, hof\n",
      "File \u001b[1;32mc:\\Users\\andre\\AppData\\Local\\Programs\\Python\\Python312\\Lib\\site-packages\\deap\\algorithms.py:151\u001b[0m, in \u001b[0;36meaSimple\u001b[1;34m(population, toolbox, cxpb, mutpb, ngen, stats, halloffame, verbose)\u001b[0m\n\u001b[0;32m    149\u001b[0m invalid_ind \u001b[38;5;241m=\u001b[39m [ind \u001b[38;5;28;01mfor\u001b[39;00m ind \u001b[38;5;129;01min\u001b[39;00m population \u001b[38;5;28;01mif\u001b[39;00m \u001b[38;5;129;01mnot\u001b[39;00m ind\u001b[38;5;241m.\u001b[39mfitness\u001b[38;5;241m.\u001b[39mvalid]\n\u001b[0;32m    150\u001b[0m fitnesses \u001b[38;5;241m=\u001b[39m toolbox\u001b[38;5;241m.\u001b[39mmap(toolbox\u001b[38;5;241m.\u001b[39mevaluate, invalid_ind)\n\u001b[1;32m--> 151\u001b[0m \u001b[43m\u001b[49m\u001b[38;5;28;43;01mfor\u001b[39;49;00m\u001b[43m \u001b[49m\u001b[43mind\u001b[49m\u001b[43m,\u001b[49m\u001b[43m \u001b[49m\u001b[43mfit\u001b[49m\u001b[43m \u001b[49m\u001b[38;5;129;43;01min\u001b[39;49;00m\u001b[43m \u001b[49m\u001b[38;5;28;43mzip\u001b[39;49m\u001b[43m(\u001b[49m\u001b[43minvalid_ind\u001b[49m\u001b[43m,\u001b[49m\u001b[43m \u001b[49m\u001b[43mfitnesses\u001b[49m\u001b[43m)\u001b[49m\u001b[43m:\u001b[49m\n\u001b[0;32m    152\u001b[0m \u001b[43m    \u001b[49m\u001b[43mind\u001b[49m\u001b[38;5;241;43m.\u001b[39;49m\u001b[43mfitness\u001b[49m\u001b[38;5;241;43m.\u001b[39;49m\u001b[43mvalues\u001b[49m\u001b[43m \u001b[49m\u001b[38;5;241;43m=\u001b[39;49m\u001b[43m \u001b[49m\u001b[43mfit\u001b[49m\n\u001b[0;32m    154\u001b[0m \u001b[38;5;28;01mif\u001b[39;00m halloffame \u001b[38;5;129;01mis\u001b[39;00m \u001b[38;5;129;01mnot\u001b[39;00m \u001b[38;5;28;01mNone\u001b[39;00m:\n",
      "Cell \u001b[1;32mIn[23], line 16\u001b[0m, in \u001b[0;36mevalSymbReg\u001b[1;34m(individual, points)\u001b[0m\n\u001b[0;32m     13\u001b[0m \u001b[38;5;66;03m# Evaluate the mean squared error between the expression\u001b[39;00m\n\u001b[0;32m     14\u001b[0m \u001b[38;5;66;03m# and the real function : x**4 + x**3 + x**2 + x\u001b[39;00m\n\u001b[0;32m     15\u001b[0m sqerrors \u001b[38;5;241m=\u001b[39m ((func(x) \u001b[38;5;241m-\u001b[39m  target(x))\u001b[38;5;241m*\u001b[39m\u001b[38;5;241m*\u001b[39m\u001b[38;5;241m2\u001b[39m \u001b[38;5;28;01mfor\u001b[39;00m x \u001b[38;5;129;01min\u001b[39;00m points) \u001b[38;5;66;03m# x**4 - x**3 - x**2 - x -\u001b[39;00m\n\u001b[1;32m---> 16\u001b[0m \u001b[38;5;28;01mreturn\u001b[39;00m \u001b[43mmath\u001b[49m\u001b[38;5;241;43m.\u001b[39;49m\u001b[43mfsum\u001b[49m\u001b[43m(\u001b[49m\u001b[43msqerrors\u001b[49m\u001b[43m)\u001b[49m \u001b[38;5;241m/\u001b[39m \u001b[38;5;28mlen\u001b[39m(points) \u001b[38;5;241m+\u001b[39m \u001b[38;5;241m0.7\u001b[39m\u001b[38;5;241m*\u001b[39m\u001b[38;5;28mlen\u001b[39m(individual),\n",
      "Cell \u001b[1;32mIn[23], line 15\u001b[0m, in \u001b[0;36m<genexpr>\u001b[1;34m(.0)\u001b[0m\n\u001b[0;32m     12\u001b[0m func \u001b[38;5;241m=\u001b[39m toolbox\u001b[38;5;241m.\u001b[39mcompile(expr\u001b[38;5;241m=\u001b[39mindividual)\n\u001b[0;32m     13\u001b[0m \u001b[38;5;66;03m# Evaluate the mean squared error between the expression\u001b[39;00m\n\u001b[0;32m     14\u001b[0m \u001b[38;5;66;03m# and the real function : x**4 + x**3 + x**2 + x\u001b[39;00m\n\u001b[1;32m---> 15\u001b[0m sqerrors \u001b[38;5;241m=\u001b[39m ((\u001b[43mfunc\u001b[49m\u001b[43m(\u001b[49m\u001b[43mx\u001b[49m\u001b[43m)\u001b[49m \u001b[38;5;241m-\u001b[39m  target(x))\u001b[38;5;241m*\u001b[39m\u001b[38;5;241m*\u001b[39m\u001b[38;5;241m2\u001b[39m \u001b[38;5;28;01mfor\u001b[39;00m x \u001b[38;5;129;01min\u001b[39;00m points) \u001b[38;5;66;03m# x**4 - x**3 - x**2 - x -\u001b[39;00m\n\u001b[0;32m     16\u001b[0m \u001b[38;5;28;01mreturn\u001b[39;00m math\u001b[38;5;241m.\u001b[39mfsum(sqerrors) \u001b[38;5;241m/\u001b[39m \u001b[38;5;28mlen\u001b[39m(points) \u001b[38;5;241m+\u001b[39m \u001b[38;5;241m0.7\u001b[39m\u001b[38;5;241m*\u001b[39m\u001b[38;5;28mlen\u001b[39m(individual),\n",
      "\u001b[1;31mTypeError\u001b[0m: <lambda>() missing 3 required positional arguments: 'vel', 'gbest', and 'pbest'"
     ]
    }
   ],
   "source": [
    "creator.create(\"FitnessMin\", base.Fitness, weights=(-1.0,))\n",
    "creator.create(\"Individual\", gp.PrimitiveTree, fitness=creator.FitnessMin)\n",
    "\n",
    "toolbox = base.Toolbox()\n",
    "toolbox.register(\"expr\", gp.genHalfAndHalf, pset=pset, min_=1, max_=2)\n",
    "toolbox.register(\"individual\", tools.initIterate, creator.Individual, toolbox.expr)\n",
    "toolbox.register(\"population\", tools.initRepeat, list, toolbox.individual)\n",
    "toolbox.register(\"compile\", gp.compile, pset=pset)\n",
    "\n",
    "def GPFitness(individual, points):\n",
    "    # Transform the tree expression in a callable function\n",
    "    func = toolbox.compile(expr=individual)\n",
    "    # Evaluate the mean squared error between the expression\n",
    "    # and the real function : x**4 + x**3 + x**2 + x\n",
    "    S = SwarmGP()\n",
    "    sqerrors = ((func(x) -  target(x))**2 for x in points) # x**4 - x**3 - x**2 - x -\n",
    "    return math.fsum(sqerrors) / len(points) + 0.7*len(individual),\n",
    "\n",
    "toolbox.register(\"evaluate\", evalSymbReg, points=[x/10. for x in range(-10,10)])\n",
    "toolbox.register(\"select\", tools.selTournament, tournsize=3) # selction\n",
    "toolbox.register(\"mate\", gp.cxOnePoint) # crossover\n",
    "toolbox.register(\"expr_mut\", gp.genFull, min_=0, max_=2)\n",
    "toolbox.register(\"mutate\", gp.mutUniform, expr=toolbox.expr_mut, pset=pset)\n",
    "\n",
    "toolbox.decorate(\"mate\", gp.staticLimit(key=operator.attrgetter(\"height\"), max_value=17))\n",
    "toolbox.decorate(\"mutate\", gp.staticLimit(key=operator.attrgetter(\"height\"), max_value=17))\n",
    "\n",
    "def main():\n",
    "    random.seed(318)\n",
    "\n",
    "    pop = toolbox.population(n=300)\n",
    "    hof = tools.HallOfFame(1)\n",
    "\n",
    "    stats_fit = tools.Statistics(lambda ind: ind.fitness.values)\n",
    "    stats_size = tools.Statistics(len)\n",
    "    mstats = tools.MultiStatistics(fitness=stats_fit, size=stats_size)\n",
    "    mstats.register(\"avg\", numpy.mean)\n",
    "    mstats.register(\"std\", numpy.std)\n",
    "    mstats.register(\"min\", numpy.min)\n",
    "    mstats.register(\"max\", numpy.max)\n",
    "\n",
    "    pop, log = algorithms.eaSimple(pop, toolbox, 0.5, 0.1, 100, stats=mstats,\n",
    "                                   halloffame=hof, verbose=False)\n",
    "    # print log\n",
    "    return pop, log, hof\n",
    "\n",
    "if __name__ == \"__main__\":\n",
    "    pop, log, hof = main()\n",
    "\n",
    "print(log)"
   ]
  }
 ],
 "metadata": {
  "kernelspec": {
   "display_name": "Python 3",
   "language": "python",
   "name": "python3"
  },
  "language_info": {
   "codemirror_mode": {
    "name": "ipython",
    "version": 3
   },
   "file_extension": ".py",
   "mimetype": "text/x-python",
   "name": "python",
   "nbconvert_exporter": "python",
   "pygments_lexer": "ipython3",
   "version": "3.12.2"
  }
 },
 "nbformat": 4,
 "nbformat_minor": 2
}
